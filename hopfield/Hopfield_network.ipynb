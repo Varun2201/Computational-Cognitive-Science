{
 "cells": [
  {
   "cell_type": "markdown",
   "metadata": {},
   "source": [
    "Q1. Can you write you own Hopfield network model that works more or less like the one simulated above? (20 points)\n",
    "\n",
    "Q2. Run the model with different parameters to figure out how the model's capacity to retrieve the correct pattern in response to a cue deteriorates as a function of \n",
    "(a) the informativeness of the cue\n",
    "(b) the number of other patterns stored in the network\n",
    "(c) the size of the network\n",
    "\n",
    "Present your answers with plots and/or math. (20 points)\n",
    "\n",
    "Q3. Can you write a function that converts MNIST digit [data](https://gitlab.com/datapythonista/mnist) to the sort of patterns used in this simulation? (20 points)\n",
    "\n",
    "Q4. Can you write an MNIST classifier using the Hopfield network?. Can you characterize its performance using F-score, and compare with [classical](https://github.com/ksopyla/svm_mnist_digit_classification) and [deep](https://github.com/hwalsuklee/tensorflow-mnist-cnn) supervised learning methods? Remember that you can always use multiple samples of the same digit even for the Hopfield network classifier. Summarize your sense of the merits and demerits of using a Hopfield network as a classifier (40 points) "
   ]
  },
  {
   "cell_type": "code",
   "execution_count": 1,
   "metadata": {
    "colab": {
     "base_uri": "https://localhost:8080/"
    },
    "id": "6IX9MUQOnIUx",
    "outputId": "8a847073-603b-4391-bcad-02e2897365fb"
   },
   "outputs": [
    {
     "name": "stdout",
     "output_type": "stream",
     "text": [
      "Requirement already satisfied: neurodynex3 in c:\\users\\varun\\anaconda3\\lib\\site-packages (1.0.3)\n",
      "Requirement already satisfied: numpy in c:\\users\\varun\\anaconda3\\lib\\site-packages (from neurodynex3) (1.20.3)\n",
      "Requirement already satisfied: setuptools-scm in c:\\users\\varun\\anaconda3\\lib\\site-packages (from neurodynex3) (6.4.2)\n",
      "Requirement already satisfied: mock in c:\\users\\varun\\anaconda3\\lib\\site-packages (from neurodynex3) (4.0.3)\n",
      "Requirement already satisfied: scipy in c:\\users\\varun\\anaconda3\\lib\\site-packages (from neurodynex3) (1.7.1)\n",
      "Requirement already satisfied: matplotlib in c:\\users\\varun\\anaconda3\\lib\\site-packages (from neurodynex3) (3.4.3)\n",
      "Requirement already satisfied: nose in c:\\users\\varun\\anaconda3\\lib\\site-packages (from neurodynex3) (1.3.7)\n",
      "Requirement already satisfied: brian2==2.3 in c:\\users\\varun\\anaconda3\\lib\\site-packages (from neurodynex3) (2.3)\n",
      "Requirement already satisfied: mpmath in c:\\users\\varun\\anaconda3\\lib\\site-packages (from neurodynex3) (1.2.1)\n",
      "Requirement already satisfied: setuptools in c:\\users\\varun\\anaconda3\\lib\\site-packages (from neurodynex3) (58.0.4)\n",
      "Requirement already satisfied: sympy>=1.2 in c:\\users\\varun\\anaconda3\\lib\\site-packages (from brian2==2.3->neurodynex3) (1.9)\n",
      "Requirement already satisfied: pyparsing in c:\\users\\varun\\anaconda3\\lib\\site-packages (from brian2==2.3->neurodynex3) (3.0.4)\n",
      "Requirement already satisfied: cython>=0.29 in c:\\users\\varun\\anaconda3\\lib\\site-packages (from brian2==2.3->neurodynex3) (0.29.24)\n",
      "Requirement already satisfied: py-cpuinfo in c:\\users\\varun\\anaconda3\\lib\\site-packages (from brian2==2.3->neurodynex3) (8.0.0)\n",
      "Requirement already satisfied: jinja2>=2.7 in c:\\users\\varun\\anaconda3\\lib\\site-packages (from brian2==2.3->neurodynex3) (2.11.3)\n",
      "Requirement already satisfied: future in c:\\users\\varun\\anaconda3\\lib\\site-packages (from brian2==2.3->neurodynex3) (0.18.2)\n",
      "Requirement already satisfied: MarkupSafe>=0.23 in c:\\users\\varun\\anaconda3\\lib\\site-packages (from jinja2>=2.7->brian2==2.3->neurodynex3) (1.1.1)\n",
      "Requirement already satisfied: cycler>=0.10 in c:\\users\\varun\\anaconda3\\lib\\site-packages (from matplotlib->neurodynex3) (0.10.0)\n",
      "Requirement already satisfied: kiwisolver>=1.0.1 in c:\\users\\varun\\anaconda3\\lib\\site-packages (from matplotlib->neurodynex3) (1.3.1)\n",
      "Requirement already satisfied: python-dateutil>=2.7 in c:\\users\\varun\\anaconda3\\lib\\site-packages (from matplotlib->neurodynex3) (2.8.2)\n",
      "Requirement already satisfied: pillow>=6.2.0 in c:\\users\\varun\\anaconda3\\lib\\site-packages (from matplotlib->neurodynex3) (8.4.0)\n",
      "Requirement already satisfied: six in c:\\users\\varun\\anaconda3\\lib\\site-packages (from cycler>=0.10->matplotlib->neurodynex3) (1.16.0)\n",
      "Requirement already satisfied: tomli>=1.0.0 in c:\\users\\varun\\anaconda3\\lib\\site-packages (from setuptools-scm->neurodynex3) (2.0.0)\n",
      "Requirement already satisfied: packaging>=20.0 in c:\\users\\varun\\anaconda3\\lib\\site-packages (from setuptools-scm->neurodynex3) (21.0)\n",
      "Requirement already satisfied: mnist in c:\\users\\varun\\anaconda3\\lib\\site-packages (0.2.2)\n",
      "Requirement already satisfied: numpy in c:\\users\\varun\\anaconda3\\lib\\site-packages (from mnist) (1.20.3)\n"
     ]
    }
   ],
   "source": [
    "!pip install neurodynex3\n",
    "from neurodynex3.hopfield_network import network, pattern_tools, plot_tools\n",
    "from numpy.core.fromnumeric import argmax\n",
    "\n",
    "\n",
    "!pip install mnist \n",
    "import mnist\n",
    "\n",
    "import numpy as np\n",
    "from numpy import linalg as lin\n",
    "from copy import deepcopy\n",
    "import random\n",
    "import matplotlib.pyplot as plt\n",
    "\n",
    "#for accuracy and f1 score of hopfield network\n",
    "from scipy.ndimage import interpolation\n",
    "from sklearn.metrics import *\n"
   ]
  },
  {
   "cell_type": "markdown",
   "metadata": {
    "id": "dbxqWOyy_KS_"
   },
   "source": [
    "#Q1\n"
   ]
  },
  {
   "cell_type": "code",
   "execution_count": 2,
   "metadata": {
    "id": "wY7U7SJusltc"
   },
   "outputs": [],
   "source": [
    "#creates the number of pattern for given size \n",
    "def get_pattern(size, no_pattern):\n",
    "    plist = np.zeros([no_pattern,size,size])\n",
    "\n",
    "    for i in range(no_pattern):\n",
    "        for j in range(size):\n",
    "            for k in range(size):\n",
    "                if random.random() > 0.5:\n",
    "                    plist[i][j][k] = 1\n",
    "                else:\n",
    "                    plist[i][j][k] = -1\n",
    "\n",
    "    return plist\n",
    "\n",
    "#petrub pattern - randomly flips the pattern\n",
    "def perturb_pattern(pattern, number):\n",
    "    size = len(pattern)\n",
    "    pattern = pattern.flatten()\n",
    "    random_list = random.sample(range(0, len(pattern)), number)\n",
    "    for i in random_list:\n",
    "        pattern[i] = pattern[i]*-1\n",
    "    pattern = np.reshape(pattern, (size,size))\n",
    "    return pattern\n",
    "\n",
    "#calculating weights - trains the weights for hopfield network\n",
    "def calculate_weights(plist, pattern_size):\n",
    "    size = pattern_size**2\n",
    "    wgt = np.zeros([size,size])\n",
    "    for k in plist:\n",
    "        state = k.flatten()\n",
    "        temp = np.zeros([size,size])\n",
    "        for i in range(size):\n",
    "            for j in range(size):\n",
    "                if i == j :\n",
    "                    temp[i][j] = 0\n",
    "                else: \n",
    "                    temp[i][j] = state[i]*state[j]\n",
    "                    temp[j][i] = state[i]*state[j]\n",
    "        wgt = wgt + temp\n",
    "    #print(wgt)\n",
    "    return wgt/size\n",
    "\n",
    "#network evolution - takes a random pattern and converges to old pattern\n",
    "def network_evolution(S,weights,t_steps):\n",
    "    shape = S.shape\n",
    "    temp = S.flatten()\n",
    "    states = [S]\n",
    "    for i in range(t_steps):\n",
    "        temp = np.sign(np.sum(weights*temp, axis=1))\n",
    "        states.append(temp.reshape(shape))\n",
    "    temp = temp.reshape(shape)\n",
    "    return temp,states\n",
    "\n",
    "#overlap uses cosine similarites\n",
    "def overlap_computation(plist,states):\n",
    "    overlap = []\n",
    "    size = len(plist[0])\n",
    "    m = 0\n",
    "    temp = states.flatten()\n",
    "    for i in plist:\n",
    "        temp2 = i.flatten()\n",
    "        m = np.dot(temp,temp2)/lin.norm(temp)/lin.norm(temp2)\n",
    "        overlap.append(m)\n",
    "    return overlap"
   ]
  },
  {
   "cell_type": "code",
   "execution_count": 3,
   "metadata": {
    "colab": {
     "base_uri": "https://localhost:8080/",
     "height": 878
    },
    "id": "cYrdYTVas4Az",
    "outputId": "22e788da-529b-4554-d89d-c2f59fd3c8ca"
   },
   "outputs": [
    {
     "data": {
      "image/png": "[encoded data removed]",
      "text/plain": [
       "<Figure size 432x288 with 5 Axes>"
      ]
     },
     "metadata": {
      "needs_background": "light"
     },
     "output_type": "display_data"
    },
    {
     "data": {
      "image/png": "[encoded data removed]",
      "text/plain": [
       "<Figure size 432x288 with 1 Axes>"
      ]
     },
     "metadata": {
      "needs_background": "light"
     },
     "output_type": "display_data"
    },
    {
     "data": {
      "image/png": "[encoded data removed]",
      "text/plain": [
       "<Figure size 432x288 with 1 Axes>"
      ]
     },
     "metadata": {
      "needs_background": "light"
     },
     "output_type": "display_data"
    },
    {
     "name": "stdout",
     "output_type": "stream",
     "text": [
      "\n"
     ]
    },
    {
     "data": {
      "image/png": "[encoded data removed]",
      "text/plain": [
       "<Figure size 432x288 with 8 Axes>"
      ]
     },
     "metadata": {
      "needs_background": "light"
     },
     "output_type": "display_data"
    },
    {
     "name": "stdout",
     "output_type": "stream",
     "text": [
      "1.0\n"
     ]
    }
   ],
   "source": [
    "def hopfield_net(size=5,number_of_pattern=5,flips=4,steps=5):\n",
    "    plist = get_pattern(size,number_of_pattern)\n",
    "    plot_tools.plot_pattern_list(plist)\n",
    "    \n",
    "    a = deepcopy(plist[0])\n",
    "    S = perturb_pattern(a,flips)\n",
    "    \n",
    "    #calculation of weights \n",
    "    wgt = calculate_weights(plist,size)\n",
    "    k,states = network_evolution(S,wgt,steps)\n",
    "    \n",
    "    plot_tools.plot_pattern(S) #perturb pattern \n",
    "    plot_tools.plot_pattern(k) #retrive the pattern stored in network\n",
    "    plot_tools.plot_state_sequence_and_overlap(states, plist, reference_idx=0, suptitle=\"Network dynamics\")\n",
    "    m = overlap_computation([plist[0]],k)[0]\n",
    "    print(m)\n",
    "\n",
    "hopfield_net(size=10,flips=30,steps=3)"
   ]
  },
  {
   "cell_type": "markdown",
   "metadata": {
    "id": "eLtMhbi9GUdL"
   },
   "source": [
    "#Q2"
   ]
  },
  {
   "cell_type": "markdown",
   "metadata": {
    "id": "TViLHo34ioVm"
   },
   "source": [
    "a) Infromativeness of the cue - As the no of flips increases i.e. noise in the pattern, the network ability to retrive the pattern decreases.\n",
    "\n",
    "-Neurons = 10\n",
    "\n",
    "-Flips ranges from 5 to 40\n",
    "\n",
    "-10 iterations are used to reduce the randomness for each case"
   ]
  },
  {
   "cell_type": "code",
   "execution_count": 4,
   "metadata": {
    "colab": {
     "base_uri": "https://localhost:8080/",
     "height": 282
    },
    "id": "iWvLT7GstxwR",
    "outputId": "956e67a2-a2ed-4615-a94d-a3e8d47ecacf"
   },
   "outputs": [
    {
     "data": {
      "text/plain": [
       "<matplotlib.legend.Legend at 0x1b16a24ecd0>"
      ]
     },
     "execution_count": 4,
     "metadata": {},
     "output_type": "execute_result"
    },
    {
     "data": {
      "image/png": "[encoded data removed]",
      "text/plain": [
       "<Figure size 432x288 with 1 Axes>"
      ]
     },
     "metadata": {
      "needs_background": "light"
     },
     "output_type": "display_data"
    }
   ],
   "source": [
    "fig , ax  = plt.subplots(1)\n",
    "for i in range(5,45,5):\n",
    "    final_y = []\n",
    "    final_x = []\n",
    "    for j in range(5,45,5):\n",
    "        sum = 0 \n",
    "        for _ in range(10):\n",
    "            plist = get_pattern(10,i)\n",
    "            a = deepcopy(plist[0])\n",
    "            S = perturb_pattern(a,j)\n",
    "            wgt = calculate_weights(plist,10)\n",
    "            k,states = network_evolution(S,wgt,5)\n",
    "            m = overlap_computation([plist[0]],k)[0]\n",
    "            sum = sum + m\n",
    "        final_y.append(sum/10)\n",
    "        final_x.append(j)\n",
    "    ax.plot(final_x,final_y,label=str(i)+' patterns')\n",
    "\n",
    "plt.xlabel('No of flips')\n",
    "plt.ylabel('Accuracy')\n",
    "ax.legend(bbox_to_anchor=(1,1))"
   ]
  },
  {
   "cell_type": "markdown",
   "metadata": {
    "id": "GD-KyUPalJSj"
   },
   "source": [
    "b)Effect of number of patterns stored in network - \n",
    "\n",
    "The network ability to retrive the pattern decrease as the more number of patterns are stored in the network"
   ]
  },
  {
   "cell_type": "code",
   "execution_count": 5,
   "metadata": {
    "colab": {
     "base_uri": "https://localhost:8080/",
     "height": 300
    },
    "id": "HfxtXpNr4abJ",
    "outputId": "492c28be-ad7a-45f9-dca5-30b4caab6512"
   },
   "outputs": [
    {
     "data": {
      "text/plain": [
       "Text(0, 0.5, 'Accuracy')"
      ]
     },
     "execution_count": 5,
     "metadata": {},
     "output_type": "execute_result"
    },
    {
     "data": {
      "image/png": "[encoded data removed]",
      "text/plain": [
       "<Figure size 432x288 with 1 Axes>"
      ]
     },
     "metadata": {
      "needs_background": "light"
     },
     "output_type": "display_data"
    }
   ],
   "source": [
    "#number of patterns increased \n",
    "fig , ax  = plt.subplots(1)\n",
    "final_y = []\n",
    "final_x = []\n",
    "for j in range(5,50):\n",
    "    sum = 0 \n",
    "    for _ in range(10):\n",
    "        plist = get_pattern(10,j)\n",
    "        a = deepcopy(plist[0])\n",
    "        S = perturb_pattern(a,15)\n",
    "        wgt = calculate_weights(plist,10)\n",
    "        k,states = network_evolution(S,wgt,5)\n",
    "        m = overlap_computation([plist[0]],k)[0]\n",
    "        sum = sum + m\n",
    "    final_y.append(sum/10)\n",
    "    final_x.append(j)\n",
    "ax.plot(final_x,final_y)\n",
    "\n",
    "\n",
    "plt.xlabel('No of pattern stored')\n",
    "plt.ylabel('Accuracy')"
   ]
  },
  {
   "cell_type": "markdown",
   "metadata": {
    "id": "NkdHbsYw3tAb"
   },
   "source": [
    "C) Effect of size of network-\n",
    "\n",
    " As the hopfield net size increases it can store the more number of patterns as we can see the accuracy to retrive pattern increase in hopfield net"
   ]
  },
  {
   "cell_type": "code",
   "execution_count": 6,
   "metadata": {
    "colab": {
     "base_uri": "https://localhost:8080/",
     "height": 300
    },
    "id": "Wk86HtY85r-C",
    "outputId": "83c58f09-676e-4cf8-9d90-90651227bcb0"
   },
   "outputs": [
    {
     "data": {
      "text/plain": [
       "Text(0, 0.5, 'Accuracy')"
      ]
     },
     "execution_count": 6,
     "metadata": {},
     "output_type": "execute_result"
    },
    {
     "data": {
      "image/png": "[encoded data removed]",
      "text/plain": [
       "<Figure size 432x288 with 1 Axes>"
      ]
     },
     "metadata": {
      "needs_background": "light"
     },
     "output_type": "display_data"
    }
   ],
   "source": [
    "#increasing the the number of neurons the capacity to store images also increases\n",
    "fig , ax  = plt.subplots(1)\n",
    "final_y = []\n",
    "final_x = []\n",
    "for j in range(5,10):\n",
    "    sum = 0 \n",
    "    for _ in range(10):\n",
    "        plist = get_pattern(j,10)\n",
    "        a = deepcopy(plist[0])\n",
    "        S = perturb_pattern(a,15)\n",
    "        wgt = calculate_weights(plist,j)\n",
    "        k,states = network_evolution(S,wgt,5)\n",
    "        m = overlap_computation([plist[0]],k)[0]\n",
    "        sum = sum + m\n",
    "    final_y.append(sum/10)\n",
    "    final_x.append(j)\n",
    "ax.plot(final_x,final_y)\n",
    "\n",
    "plt.xlabel('Size of neurons')\n",
    "plt.ylabel('Accuracy')"
   ]
  },
  {
   "cell_type": "markdown",
   "metadata": {
    "id": "EtBfTpYNxVwG"
   },
   "source": [
    "#Q3 \n",
    "\n",
    "Converting the mnist data set for training and testing \n",
    "\n",
    "The image preprocessing steps involves - i) Deskweing  ii) Cropping iii) Applying threshold \n",
    "\n",
    "Deskewing is used to straighten the images used. Cropping is used to remove the unwanted part and threshold to convert the grayscle to hopfield"
   ]
  },
  {
   "cell_type": "code",
   "execution_count": 7,
   "metadata": {
    "id": "nACiJvI62B1M"
   },
   "outputs": [],
   "source": [
    "#images for testing and training \n",
    "x_images = mnist.train_images().astype(int)\n",
    "y_images = mnist.test_images().astype(int)\n",
    "x_labels = mnist.train_labels()\n",
    "y_labels = mnist.test_labels()"
   ]
  },
  {
   "cell_type": "code",
   "execution_count": 8,
   "metadata": {
    "id": "jexkT14X7lza"
   },
   "outputs": [],
   "source": [
    "#return the number of images and labels required for training and testing of each class i.e from 0-9 digits\n",
    "def mnist_data(x_labels,x_images,y_labels,y_images,test_number = 5,train_number=5):\n",
    "    train_images = []\n",
    "    train_labels = []\n",
    "    test_images = []\n",
    "    test_labels = []\n",
    "\n",
    "    for i in range(0,10):\n",
    "        a = np.where(x_labels==i)[0][:train_number] \n",
    "        train_labels.extend(x_labels[a])\n",
    "        train_images.extend(x_images[a])\n",
    "        b = np.where(y_labels==i)[0][:test_number]\n",
    "        test_labels.extend(y_labels[b])\n",
    "        test_images.extend(y_images[b])\n",
    "    return train_labels,train_images,test_labels,test_images\n",
    "\n",
    "train_labels,train_images,test_labels,test_images = mnist_data(x_labels,x_images,y_labels,y_images,test_number=10,train_number=4)"
   ]
  },
  {
   "cell_type": "markdown",
   "metadata": {
    "id": "QjZGf_tEbQHZ"
   },
   "source": [
    "Source for [deskewing](https://fsix.github.io/mnist/Deskewing.html)"
   ]
  },
  {
   "cell_type": "code",
   "execution_count": 9,
   "metadata": {
    "id": "NfVi3hiNHw00"
   },
   "outputs": [],
   "source": [
    "#source - https://fsix.github.io/mnist/Deskewing.html\n",
    "#moment and deskew funtions are taken from the above source for deskewing the image\n",
    "\n",
    "def moments(image):\n",
    "    c0,c1 = np.mgrid[:image.shape[0],:image.shape[1]] # A trick in numPy to create a mesh grid\n",
    "    totalImage = np.sum(image) #sum of pixels\n",
    "    m0 = np.sum(c0*image)/totalImage #mu_x\n",
    "    m1 = np.sum(c1*image)/totalImage #mu_y\n",
    "    m00 = np.sum((c0-m0)**2*image)/totalImage #var(x)\n",
    "    m11 = np.sum((c1-m1)**2*image)/totalImage #var(y)\n",
    "    m01 = np.sum((c0-m0)*(c1-m1)*image)/totalImage #covariance(x,y)\n",
    "    mu_vector = np.array([m0,m1]) # Notice that these are \\mu_x, \\mu_y respectively\n",
    "    covariance_matrix = np.array([[m00,m01],[m01,m11]]) # Do you see a similarity between the covariance matrix\n",
    "    return mu_vector, covariance_matrix\n",
    "\n",
    "def deskew(image):\n",
    "    c,v = moments(image)\n",
    "    alpha = v[0,1]/v[0,0]\n",
    "    affine = np.array([[1,0],[alpha,1]])\n",
    "    ocenter = np.array(image.shape)/2.0\n",
    "    offset = c-np.dot(affine,ocenter)\n",
    "    return interpolation.affine_transform(image,affine,offset=offset)\n"
   ]
  },
  {
   "cell_type": "code",
   "execution_count": 10,
   "metadata": {
    "id": "xV2UHSeeIMgO"
   },
   "outputs": [],
   "source": [
    "#applying threshold and cropping the image for more accuracy \n",
    "def mnist_convert(x_images,threshold):\n",
    "    a = []\n",
    "    for i in range(len(x_images)):\n",
    "        a.append(deskew(x_images[i]))\n",
    "    a = np.array(a)\n",
    "    a = a[:,7:21,7:21]\n",
    "    a[a<threshold] = -1\n",
    "    a[a>=threshold] = 1\n",
    "    return a\n",
    "\n",
    "#performing deskew in train and test images\n",
    "x_deskew = mnist_convert(x_images,86)\n",
    "y_deskew = mnist_convert(y_images,86)"
   ]
  },
  {
   "cell_type": "markdown",
   "metadata": {
    "id": "wCHz90bH4Sq5"
   },
   "source": [
    "#Q4\n"
   ]
  },
  {
   "cell_type": "markdown",
   "metadata": {
    "id": "EVJMNfjl9hiu"
   },
   "source": [
    "Classifier for mnist dataset\n",
    "\n",
    "The mnsit dataset is trained with only 1 image per class to get the maximum accuracy"
   ]
  },
  {
   "cell_type": "code",
   "execution_count": 11,
   "metadata": {
    "id": "E2astNBurFpU"
   },
   "outputs": [],
   "source": [
    "def classifer(test_images,train_images,steps,size):\n",
    "    wgt = calculate_weights(train_images,size)\n",
    "    y_pred = []\n",
    "    for i in range(len(test_images)):\n",
    "        k,states = network_evolution(test_images[i],wgt,steps)\n",
    "        label = overlap_computation(train_images,k)\n",
    "        index = argmax(label)\n",
    "        y_pred.append(train_labels[index])    \n",
    "    return y_pred"
   ]
  },
  {
   "cell_type": "code",
   "execution_count": 12,
   "metadata": {
    "colab": {
     "base_uri": "https://localhost:8080/"
    },
    "id": "mr7bqFnqUA0K",
    "outputId": "bfae9212-4a5d-417c-f4e7-724787f70601"
   },
   "outputs": [
    {
     "name": "stdout",
     "output_type": "stream",
     "text": [
      "accuracy -  0.4878\n",
      "f score -  0.4726965779467257\n"
     ]
    }
   ],
   "source": [
    "train_labels,train_images,test_labels,test_images = mnist_data(x_labels,x_deskew,y_labels,y_deskew,test_number=10000,train_number=1)\n",
    "y_pred = classifer(test_images,train_images,steps=5,size =14)\n",
    "print('accuracy - ',accuracy_score(test_labels, y_pred))\n",
    "print('f score - ',f1_score(test_labels,y_pred,average= 'macro'))"
   ]
  },
  {
   "cell_type": "markdown",
   "metadata": {
    "id": "WwMQ0FDXcdU-"
   },
   "source": [
    "The f-score of  accuracy is around ~48% which is far less than than the classical ML models and the deep learning models \n",
    "\n",
    "The accuracy of Classical ML model (SVM RBF) is around 98.52% and for deep learning models (CNN) is greater than 99% \n"
   ]
  },
  {
   "cell_type": "code",
   "execution_count": 13,
   "metadata": {
    "colab": {
     "base_uri": "https://localhost:8080/"
    },
    "id": "ta1LcE3J9oE-",
    "outputId": "21bbc40b-75f3-4b32-9fd8-e27c8ce3b35d",
    "scrolled": true
   },
   "outputs": [
    {
     "name": "stdout",
     "output_type": "stream",
     "text": [
      "              precision    recall  f1-score   support\n",
      "\n",
      "           0       0.70      0.88      0.78       980\n",
      "           1       0.82      0.93      0.87      1135\n",
      "           2       0.23      0.36      0.28      1032\n",
      "           3       0.63      0.33      0.43      1010\n",
      "           4       0.29      0.06      0.10       982\n",
      "           5       0.29      0.32      0.30       892\n",
      "           6       0.91      0.59      0.72       958\n",
      "           7       0.60      0.35      0.44      1028\n",
      "           8       0.31      0.61      0.41       974\n",
      "           9       0.40      0.38      0.39      1009\n",
      "\n",
      "    accuracy                           0.49     10000\n",
      "   macro avg       0.52      0.48      0.47     10000\n",
      "weighted avg       0.52      0.49      0.48     10000\n",
      "\n"
     ]
    }
   ],
   "source": [
    "print(classification_report(test_labels,y_pred))"
   ]
  },
  {
   "cell_type": "markdown",
   "metadata": {
    "id": "9AEMsEoUncmo"
   },
   "source": [
    "Hopfield is unsupervised learning model and converges to single pattern within few iterations\n",
    "\n",
    "**Merits of Hopfield**\n",
    "\n",
    "i) Less memory internsive\n",
    "ii) Less training time \n",
    "iii) Easy to implement \n",
    "\n",
    "**Demerits of Hopfield**\n",
    "\n",
    "i) Difficult to differentiate between similar pattern\n",
    "ii) Cannot store large number of pattern\n",
    "iii) Due to only 2 values stored +1/-1 there is loss of color.\n",
    "\n",
    "Refrences - \n",
    "\n",
    "[SVM MNIST classification refrence](https://github.com/ksopyla/svm_mnist_digit_classification)\n",
    "\n",
    "[Deep learning refrence](https://github.com/hwalsuklee/tensorflow-mnist-cnn)\n",
    "\n",
    "'Belyaev, Maksim & Velichko, Andrei. (2020). Classification of handwritten digits using the Hopfield network.' [Research paper](https://www.researchgate.net/publication/341712078_Classification_of_handwritten_digits_using_the_Hopfield_network)"
   ]
  },
  {
   "cell_type": "code",
   "execution_count": null,
   "metadata": {},
   "outputs": [],
   "source": []
  }
 ],
 "metadata": {
  "colab": {
   "collapsed_sections": [],
   "name": "cog2.ipynb",
   "provenance": []
  },
  "kernelspec": {
   "display_name": "Python 3 (ipykernel)",
   "language": "python",
   "name": "python3"
  },
  "language_info": {
   "codemirror_mode": {
    "name": "ipython",
    "version": 3
   },
   "file_extension": ".py",
   "mimetype": "text/x-python",
   "name": "python",
   "nbconvert_exporter": "python",
   "pygments_lexer": "ipython3",
   "version": "3.9.7"
  }
 },
 "nbformat": 4,
 "nbformat_minor": 1
}

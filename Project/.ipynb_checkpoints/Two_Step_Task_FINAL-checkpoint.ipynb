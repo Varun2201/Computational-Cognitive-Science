{
 "cells": [
  {
   "cell_type": "code",
   "execution_count": 1,
   "metadata": {
    "ExecuteTime": {
     "end_time": "2022-04-28T14:42:00.892620Z",
     "start_time": "2022-04-28T14:42:00.858291Z"
    },
    "id": "tFl95XdS8N0L"
   },
   "outputs": [],
   "source": [
    "import numpy as np\n",
    "import copy \n",
    "import random\n",
    "\n",
    "class game:\n",
    "    '''environment for two step task'''\n",
    "    def __init__(self):\n",
    "        pass\n",
    "    \n",
    "    def phase2(self,action):\n",
    "        '''returning reward for phase 2'''\n",
    "        if action == 1:\n",
    "            return 1\n",
    "        else :\n",
    "            return 2 \n",
    "\n",
    "    def phase3(self,state,action):\n",
    "        '''returning reward for phase 3'''\n",
    "        if state == 1 :\n",
    "            if action == 0:\n",
    "               return 1\n",
    "            else:\n",
    "                return 2\n",
    "        else:\n",
    "            if action == 0 :\n",
    "                return 10\n",
    "            else:\n",
    "                return 25\n",
    " \n",
    " \n",
    "def softmax(state):\n",
    "    '''action selection policy'''\n",
    "    a = np.exp(state[0]*2)/((np.exp(state[0]*2)) + np.exp(state[1]*2))\n",
    "    return np.random.choice([0,1],p=[a,1-a])\n",
    "\n",
    "def prob(state): \n",
    "    '''return the probability of choosing state 2'''\n",
    "    a = np.exp(state[1]*2)/((np.exp(state[0]*2)) + np.exp(state[1]*2))\n",
    "    return a\n"
   ]
  },
  {
   "cell_type": "code",
   "execution_count": 2,
   "metadata": {
    "ExecuteTime": {
     "end_time": "2022-04-28T14:42:00.921461Z",
     "start_time": "2022-04-28T14:42:00.898605Z"
    },
    "id": "Uop9E9RU5RNb"
   },
   "outputs": [],
   "source": [
    "def qlearning(trials): \n",
    "    qtable = np.zeros((4,2))\n",
    "    reward = game()\n",
    "\n",
    "    #phase 2\n",
    "    for i in range(20):\n",
    "        action = softmax(qtable[0])\n",
    "        \n",
    "        qtable[0,action] = qtable[0,action] + 0.01*(reward.phase2(action) - qtable[0,action])\n",
    "    p2 = prob(qtable[0])\n",
    "    #phase 3    \n",
    "    for i in range(trials):\n",
    "        state = random.choice([2,3]) - 1\n",
    "        action = softmax(qtable[state])\n",
    "        r = reward.phase3(state,action)\n",
    "        qtable[state,action] = qtable[state,action] + 0.01*(r - qtable[state,action])\n",
    "\n",
    "    #phase4   \n",
    "    p4 = prob(qtable[0])\n",
    "    return p2, p4"
   ]
  },
  {
   "cell_type": "code",
   "execution_count": 3,
   "metadata": {
    "ExecuteTime": {
     "end_time": "2022-04-28T14:42:00.990947Z",
     "start_time": "2022-04-28T14:42:00.929971Z"
    },
    "colab": {
     "base_uri": "https://localhost:8080/"
    },
    "id": "bptJwxAV5nz_",
    "outputId": "094a1dff-f57e-4300-923e-75992f05620a"
   },
   "outputs": [
    {
     "name": "stdout",
     "output_type": "stream",
     "text": [
      "(0.493305236528344, 0.493305236528344)\n",
      "(0.4659011321944858, 0.4659011321944858)\n"
     ]
    }
   ],
   "source": [
    "print(qlearning(30))\n",
    "print(qlearning(50))"
   ]
  },
  {
   "cell_type": "markdown",
   "metadata": {
    "id": "-_KE43dr4mlb"
   },
   "source": [
    "As we can see that in all cases probability of agent choosing state 2 in phase 2 and phase 4 does not changes so there is no revaluation done by agent."
   ]
  },
  {
   "cell_type": "code",
   "execution_count": 4,
   "metadata": {
    "ExecuteTime": {
     "end_time": "2022-04-28T14:42:01.062517Z",
     "start_time": "2022-04-28T14:42:00.997257Z"
    },
    "id": "Zoo8ZORBFlCN"
   },
   "outputs": [],
   "source": [
    "class Model():\n",
    "  def __init__(self):\n",
    "    self.transitions = np.zeros((4,2), dtype=np.uint8)\n",
    "    self.rewards = np.zeros((4,2))\n",
    "    self.snext = np.array([[1,2],[3,3],[3,3]])\n",
    "    \n",
    "\n",
    "  def add(self,s,a,r):\n",
    "    '''adding previously seen state-action pairs'''  \n",
    "    self.transitions[s,a] = self.snext[s,a]\n",
    "    self.rewards[s,a] = r\n",
    "    \n",
    "\n",
    "  def sample(self):\n",
    "    \"\"\" Return random state, action\"\"\"\n",
    "    # Random visited state\n",
    "    s = np.random.choice(np.where(np.sum(self.transitions, axis=1) > 0)[0])\n",
    "    # Random action in that state\n",
    "    a = np.random.choice(np.where(self.transitions[s] > 0)[0])\n",
    "    return s,a\n",
    "\n",
    "  def step(self, s,a):\n",
    "    \"\"\" Return state_prime and reward for state-action pair\"\"\"\n",
    "    next = self.transitions[s,a]\n",
    "    r = self.rewards[s,a]\n",
    "    return next,r\n",
    "\n",
    "def planning(n,model,states):\n",
    "    \"\"\" Reinforces the previously learnt state-action pairs\"\"\"\n",
    "    for i in range(n):\n",
    "      s, a = model.sample()\n",
    "      next,reward = model.step(s,a)\n",
    "      states[s,a] = states[s,a] + 0.01*(reward - states[s,a] + 1*max(states[next]))\n",
    "    return states\n",
    "\n",
    "def dynaq(load,n_plan,trials):\n",
    "    #defines load or no load condition \n",
    "    #n is number of planning steps per real steps in phase 3 \n",
    "    if load==1:\n",
    "        n = 1\n",
    "    else:\n",
    "        n = 2\n",
    "    \n",
    "    m = Model()\n",
    "    qtable = np.zeros((4,2))\n",
    "    reward = game()\n",
    "\n",
    "    #phase 2\n",
    "    for i in range(20):\n",
    "        action = softmax(qtable[0])\n",
    "        m.add(0,action,reward.phase2(action))\n",
    "        qtable[0,action] = qtable[0,action] + 0.01*(reward.phase2(action) - qtable[0,action])\n",
    "    p2 = prob(qtable[0])\n",
    "    \n",
    "    #phase 3    \n",
    "    for i in range(trials):\n",
    "        state = random.choice([2,3]) - 1\n",
    "        action = softmax(qtable[state])\n",
    "        #reward for phase 3\n",
    "        r = reward.phase3(state,action)\n",
    "        m.add(state,action,r)\n",
    "        \n",
    "        #dynaq algorithm\n",
    "        qtable[state,action] = qtable[state,action] + 0.01*(r - qtable[state,action])\n",
    "        qtable = planning(n,m,qtable)\n",
    "    ''''''\n",
    "    qtable = planning(n_plan,m,qtable)\n",
    "    \n",
    "    #phase4   \n",
    "    p4 = prob(qtable[0])\n",
    "    return p2, p4"
   ]
  },
  {
   "cell_type": "code",
   "execution_count": null,
   "metadata": {
    "ExecuteTime": {
     "start_time": "2022-04-28T14:42:00.905Z"
    },
    "colab": {
     "base_uri": "https://localhost:8080/",
     "height": 459
    },
    "id": "62mkrqs7HmR8",
    "outputId": "19d4bebf-9df4-41c7-fa42-ec2fb9f79e21"
   },
   "outputs": [],
   "source": [
    "\n",
    "x = [i for i in range(1,101,10)]\n",
    "import matplotlib.pyplot as plt\n",
    "plt.rcParams[\"figure.figsize\"] = (7,7)\n",
    "\n",
    "# Load 30 \n",
    "reval = []\n",
    "for i in range(1,101,10):\n",
    "    sum = 0\n",
    "    for k in range(100):\n",
    "        p2,p4 = dynaq(1,i,30)\n",
    "        sum = sum + p4-p2\n",
    "    reval.append(sum/100)\n",
    "\n",
    "plt.plot(x,reval,color = 'blue', label = 'Load 30',marker = 's')\n",
    "\n",
    "# No-Load 30 \n",
    "reval = []\n",
    "for i in range(1,101,10):\n",
    "    sum = 0\n",
    "    for k in range(100):\n",
    "        p2,p4 = dynaq(0,i,30)\n",
    "        sum = sum + p4-p2\n",
    "    reval.append(sum/100)\n",
    "\n",
    "plt.plot(x,reval,color = 'red', label = 'No-Load 30', marker = 'v')\n",
    "\n",
    "# Load 50\n",
    "reval = []\n",
    "for i in range(1,101,10):\n",
    "    sum = 0\n",
    "    for k in range(100):\n",
    "        p2,p4 = dynaq(1,i,50)\n",
    "        sum = sum + p4-p2\n",
    "    reval.append(sum/100)\n",
    "\n",
    "plt.plot(x,reval, color = 'black', label = 'Load 50', marker = '^')\n",
    "\n",
    "# No-Load 50\n",
    "reval = []\n",
    "for i in range(1,101,10):\n",
    "    sum = 0\n",
    "    for k in range(100):\n",
    "        p2,p4 = dynaq(0,i,50)\n",
    "        sum = sum + p4-p2\n",
    "    reval.append(sum/100)\n",
    "\n",
    "\n",
    "plt.plot(x,reval, color = 'green', label= 'No-Load 50', marker = 'o')\n",
    "plt.xlabel('No of Replays')\n",
    "plt.ylabel('Revaluation Magnitude')\n",
    "plt.legend()\n",
    "plt.savefig('twosteptask.png')\n",
    "print()"
   ]
  }
 ],
 "metadata": {
  "colab": {
   "collapsed_sections": [],
   "name": "Two Step Task.ipynb",
   "provenance": []
  },
  "kernelspec": {
   "display_name": "Python 3",
   "language": "python",
   "name": "python3"
  },
  "language_info": {
   "codemirror_mode": {
    "name": "ipython",
    "version": 3
   },
   "file_extension": ".py",
   "mimetype": "text/x-python",
   "name": "python",
   "nbconvert_exporter": "python",
   "pygments_lexer": "ipython3",
   "version": "3.8.8"
  },
  "varInspector": {
   "cols": {
    "lenName": 16,
    "lenType": 16,
    "lenVar": 40
   },
   "kernels_config": {
    "python": {
     "delete_cmd_postfix": "",
     "delete_cmd_prefix": "del ",
     "library": "var_list.py",
     "varRefreshCmd": "print(var_dic_list())"
    },
    "r": {
     "delete_cmd_postfix": ") ",
     "delete_cmd_prefix": "rm(",
     "library": "var_list.r",
     "varRefreshCmd": "cat(var_dic_list()) "
    }
   },
   "types_to_exclude": [
    "module",
    "function",
    "builtin_function_or_method",
    "instance",
    "_Feature"
   ],
   "window_display": false
  }
 },
 "nbformat": 4,
 "nbformat_minor": 1
}

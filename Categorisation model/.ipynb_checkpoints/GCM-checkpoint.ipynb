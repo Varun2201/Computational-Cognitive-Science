{
 "cells": [
  {
   "cell_type": "code",
   "execution_count": 1,
   "metadata": {
    "id": "o0erIefT7oj4"
   },
   "outputs": [],
   "source": [
    "import pandas as pd\n",
    "import numpy as np\n",
    "from random import shuffle\n",
    "\n",
    "\n",
    "\n",
    "x = pd.read_csv('X.csv',header=None)\n",
    "y = pd.read_csv('y.csv',header=None)\n",
    "x_train = np.array(x)\n",
    "y_test = np.array(y)"
   ]
  },
  {
   "cell_type": "markdown",
   "metadata": {
    "id": "mn_SFEX53xk5"
   },
   "source": [
    "# Q1"
   ]
  },
  {
   "cell_type": "code",
   "execution_count": 2,
   "metadata": {
    "colab": {
     "base_uri": "https://localhost:8080/"
    },
    "id": "lQ2AHDiv89Kl",
    "outputId": "6e212afc-12a7-44f4-ec7c-12b3bf24d7ac"
   },
   "outputs": [
    {
     "name": "stdout",
     "output_type": "stream",
     "text": [
      "\n",
      "Predicted value of testing example [2, 2, 3, 2, 3, 3, 2, 2, 2, 1] for alpha - 0.6 0.4 and gamma - 0.7 1.5 0.8\n"
     ]
    }
   ],
   "source": [
    "def n_per_category(category,test,x=x):\n",
    "    '''Calculating the number of data point per category'''\n",
    "    x_temp = x[x[:,2]==category][:]\n",
    "    cout = 0\n",
    "    for i in x_temp[:,:2]:\n",
    "        if np.all(i == test):\n",
    "            cout = cout + 1\n",
    "    return cout\n",
    "\n",
    "def similarity(x1,y1,a = [0.6,0.4]):\n",
    "    '''calcualting the similarity between the test and train points'''\n",
    "    d = 0\n",
    "    for i in range(len(y1)):\n",
    "        d = d + a[i]*(x1[i]-y1[i])\n",
    "    if d < 0:\n",
    "        d = d*-1\n",
    "    s = np.exp(-d)\n",
    "    return s\n",
    "\n",
    "def num(x,y,gamma,i,a):\n",
    "    '''for each exmpler calculate similarity with new stimulus and multiply with exemplar's memebership count.'''\n",
    "    temp = 0\n",
    "    new_x = np.unique(x,axis=0)\n",
    "    for j in new_x:\n",
    "        temp = temp + n_per_category(i,j[:2],x)*similarity(j,y,a)\n",
    "    temp = temp*gamma\n",
    "    return temp\n",
    "\n",
    "\n",
    "def den(x,y,gamma,a):\n",
    "    '''calulating total probability'''\n",
    "    n = 0\n",
    "    new_x = np.unique(x,axis=0)\n",
    "    for i in range(len(gamma)):\n",
    "        temp = 0\n",
    "        for j in new_x:\n",
    "            temp = temp + n_per_category(i+1,j[:2],x)*similarity(j,y,a)\n",
    "        n = n + temp*gamma[i]\n",
    "    return n\n",
    "\n",
    "def gcm(x,y,a,g):\n",
    "    '''gcm funtion'''\n",
    "    gamma = g\n",
    "    denominator = den(x,y,gamma,a)\n",
    "    cate = []\n",
    "    for i in range(len(gamma)):\n",
    "        cate.append(num(x,y,gamma[i],i+1,a)/denominator)\n",
    "    return cate\n",
    "    \n",
    "\n",
    "def predict(x,y,a,g):\n",
    "    '''predicting the value of test data'''\n",
    "    pred_y = []\n",
    "    for i in range(len(y)):\n",
    "        pred_y.append(np.argmax(gcm(x,y[i],a,g))+1) \n",
    "    return pred_y\n",
    "\n",
    "#value of alpha \n",
    "a = [0.6,0.4]  \n",
    "#value of gamma \n",
    "g = [0.7,1.5,0.8]\n",
    "\n",
    "print('\\nPredicted value of testing example',predict(x_train,y_test,a,g) ,'for alpha -',a[0],a[1], 'and gamma -',g[0],g[1],g[2])\n"
   ]
  },
  {
   "cell_type": "code",
   "execution_count": 3,
   "metadata": {
    "colab": {
     "base_uri": "https://localhost:8080/"
    },
    "id": "QS3VJOZy8vXu",
    "outputId": "00ea65bb-1f30-4e0b-c115-004a2439acf2"
   },
   "outputs": [
    {
     "name": "stdout",
     "output_type": "stream",
     "text": [
      "\n",
      "Predicted value of testing example [2, 2, 3, 2, 2, 3, 2, 2, 2, 1] for alpha - 0.7 0.3 and gamma - 0.5 1.5 1\n",
      "\n",
      "Predicted value of testing example [2, 2, 3, 2, 2, 3, 2, 2, 2, 1] for alpha - 0.7 0.3 and gamma - 1.3 1.5 1\n"
     ]
    }
   ],
   "source": [
    "\n",
    "a = [0.7,0.3]  \n",
    "g = [0.5,1.5,1]\n",
    "\n",
    "print('\\nPredicted value of testing example',predict(x_train,y_test,a,g) ,'for alpha -',a[0],a[1], 'and gamma -',g[0],g[1],g[2])\n",
    "\n",
    "a = [0.7,0.3]  \n",
    "g = [1.3,1.5,1]\n",
    "pred_y = predict(x_train,y_test,a,g)\n",
    "print('\\nPredicted value of testing example',predict(x_train,y_test,a,g) ,'for alpha -',a[0],a[1], 'and gamma -',g[0],g[1],g[2])"
   ]
  },
  {
   "cell_type": "code",
   "execution_count": 4,
   "metadata": {
    "colab": {
     "base_uri": "https://localhost:8080/",
     "height": 363
    },
    "id": "FKGpDSX-9Wb6",
    "outputId": "333a50b0-5af5-4f8c-fcb1-348851e03c0b"
   },
   "outputs": [
    {
     "data": {
      "text/html": [
       "<div>\n",
       "<style scoped>\n",
       "    .dataframe tbody tr th:only-of-type {\n",
       "        vertical-align: middle;\n",
       "    }\n",
       "\n",
       "    .dataframe tbody tr th {\n",
       "        vertical-align: top;\n",
       "    }\n",
       "\n",
       "    .dataframe thead th {\n",
       "        text-align: right;\n",
       "    }\n",
       "</style>\n",
       "<table border=\"1\" class=\"dataframe\">\n",
       "  <thead>\n",
       "    <tr style=\"text-align: right;\">\n",
       "      <th></th>\n",
       "      <th>0</th>\n",
       "      <th>1</th>\n",
       "      <th>2</th>\n",
       "    </tr>\n",
       "  </thead>\n",
       "  <tbody>\n",
       "    <tr>\n",
       "      <th>0</th>\n",
       "      <td>74</td>\n",
       "      <td>67</td>\n",
       "      <td>2</td>\n",
       "    </tr>\n",
       "    <tr>\n",
       "      <th>1</th>\n",
       "      <td>69</td>\n",
       "      <td>63</td>\n",
       "      <td>2</td>\n",
       "    </tr>\n",
       "    <tr>\n",
       "      <th>2</th>\n",
       "      <td>92</td>\n",
       "      <td>81</td>\n",
       "      <td>3</td>\n",
       "    </tr>\n",
       "    <tr>\n",
       "      <th>3</th>\n",
       "      <td>64</td>\n",
       "      <td>61</td>\n",
       "      <td>2</td>\n",
       "    </tr>\n",
       "    <tr>\n",
       "      <th>4</th>\n",
       "      <td>66</td>\n",
       "      <td>84</td>\n",
       "      <td>2</td>\n",
       "    </tr>\n",
       "    <tr>\n",
       "      <th>5</th>\n",
       "      <td>76</td>\n",
       "      <td>68</td>\n",
       "      <td>3</td>\n",
       "    </tr>\n",
       "    <tr>\n",
       "      <th>6</th>\n",
       "      <td>61</td>\n",
       "      <td>58</td>\n",
       "      <td>2</td>\n",
       "    </tr>\n",
       "    <tr>\n",
       "      <th>7</th>\n",
       "      <td>64</td>\n",
       "      <td>76</td>\n",
       "      <td>2</td>\n",
       "    </tr>\n",
       "    <tr>\n",
       "      <th>8</th>\n",
       "      <td>68</td>\n",
       "      <td>66</td>\n",
       "      <td>2</td>\n",
       "    </tr>\n",
       "    <tr>\n",
       "      <th>9</th>\n",
       "      <td>34</td>\n",
       "      <td>61</td>\n",
       "      <td>1</td>\n",
       "    </tr>\n",
       "  </tbody>\n",
       "</table>\n",
       "</div>"
      ],
      "text/plain": [
       "    0   1  2\n",
       "0  74  67  2\n",
       "1  69  63  2\n",
       "2  92  81  3\n",
       "3  64  61  2\n",
       "4  66  84  2\n",
       "5  76  68  3\n",
       "6  61  58  2\n",
       "7  64  76  2\n",
       "8  68  66  2\n",
       "9  34  61  1"
      ]
     },
     "execution_count": 4,
     "metadata": {},
     "output_type": "execute_result"
    }
   ],
   "source": [
    "y_test = list(y_test)\n",
    "y = pd.DataFrame(y_test)\n",
    "y[2] = pred_y\n",
    "y.to_csv('Q1_Y.csv',index= None)\n",
    "y"
   ]
  },
  {
   "cell_type": "markdown",
   "metadata": {
    "id": "EHlgfUoD4nrA"
   },
   "source": [
    "In question it is given that more likely to use weights than height so in aplha the value of weight is more than height \n",
    "\n",
    "And also in gamma the value of average is greater than large since he is more likely to call average than large"
   ]
  },
  {
   "cell_type": "markdown",
   "metadata": {
    "id": "sPW6C2tnB1pO"
   },
   "source": [
    "# Q2"
   ]
  },
  {
   "cell_type": "code",
   "execution_count": 5,
   "metadata": {
    "id": "ZmaQHfCK_lK_"
   },
   "outputs": [],
   "source": [
    "class dLocalMAP:\n",
    "    \"\"\"\n",
    "    See Anderson (1990, 1991)\n",
    "    'Categories' renamed 'clusters' to avoid confusion.\n",
    "    Discrete version.\n",
    "    \n",
    "    Stimulus format is a list of integers from 0 to n-1 where n is the number\n",
    "    of possible features (e.g. [1,0,1])\n",
    "    \n",
    "    args: c, alphas\n",
    "    \"\"\"\n",
    "    \n",
    "    def __init__(self, args):\n",
    "        self.partition = [[]]\n",
    "        self.c, self.alpha = args\n",
    "        self.alpha0 = [sum(self.alpha[0]),sum(self.alpha[1]),sum(self.alpha[2])]\n",
    "        self.N = 0\n",
    "    \n",
    "    def probClustVal(self, k, i, val):\n",
    "        \"\"\"Find P(j|k)\"\"\"\n",
    "        cj = len([x for x in self.partition[k] if x[i]==val+1])\n",
    "        nk = len(self.partition[k])\n",
    "        return (cj + self.alpha[i][val])/(nk + self.alpha0[i])\n",
    "    \n",
    "    def condclusterprob(self, stim, k):\n",
    "        \"\"\"Find P(F|k)\"\"\"\n",
    "        pjks = []\n",
    "        for i in range(len(stim)):\n",
    "            cj = len([x for x in self.partition[k] if x[i]==stim[i]])\n",
    "            nk = len(self.partition[k])\n",
    "            pjks.append( (cj + self.alpha[i][stim[i]-1])/(nk + self.alpha0[i]) )\n",
    "        return np.product( pjks )\n",
    "        \n",
    "    \n",
    "    def posterior(self, stim):\n",
    "        \"\"\"Find P(k|F) for each cluster\"\"\"\n",
    "        pk = np.zeros( len(self.partition) )\n",
    "        pFk = np.zeros( len(self.partition) )\n",
    "        \n",
    "        # existing clusters:\n",
    "        for k in range(len(self.partition)):\n",
    "            pk[k] = self.c * len(self.partition[k])/ ((1-self.c) + self.c * self.N)\n",
    "            if len(self.partition[k])==0: # case of new cluster\n",
    "                pk[k] = (1-self.c) /(( 1-self.c ) + self.c * self.N)\n",
    "            pFk[k] = self.condclusterprob( stim, k)\n",
    "        \n",
    "        # put it together\n",
    "        pkF = (pk*pFk) / sum( pk*pFk )\n",
    "        \n",
    "        return pkF\n",
    "    \n",
    "    def stimulate(self, stim):\n",
    "        \"\"\"Argmax of P(k|F) + P(0|F)\"\"\"\n",
    "        winner = np.argmax( self.posterior(stim) )\n",
    "        #print(\"Stim: \", stim)\n",
    "        #print(\"Partition: \", self.partition)\n",
    "        #print(self.posterior(stim))\n",
    "        \n",
    "        if len(self.partition[winner]) == 0:\n",
    "            self.partition.append( [] )\n",
    "        self.partition[winner].append(stim)\n",
    "        #print(len(self.partition))\n",
    "        self.N += 1\n",
    "    \n",
    "    def query(self, stimulus):\n",
    "        \"\"\"Queried value should be -1.\"\"\"\n",
    "        qdim = -1\n",
    "        for i in range(len(stimulus)):\n",
    "            if stimulus[i] < 0:\n",
    "                if qdim != -1:\n",
    "                    pass\n",
    "                qdim = i\n",
    "        \n",
    "        self.N = sum([len(x) for x in self.partition])\n",
    "        \n",
    "        pkF = self.posterior(stimulus)\n",
    "        pkF = pkF[:-1] / sum(pkF[:-1])\n",
    "        \n",
    "        pjF = np.array( [sum( [ pkF[k] * self.probClustVal(k, qdim, j) \\\n",
    "                for k in range(len(self.partition)-1)] ) \n",
    "                for j in range(len( self.alpha[qdim] ))] )\n",
    "        \n",
    "        return pjF / sum(pjF)\n",
    "\n",
    "def testlocalmapD(alpha,c):\n",
    "\n",
    "    stims = pd.read_csv('X.csv')\n",
    "    stims = list(np.array(stims))\n",
    "\n",
    "    for _ in range(1):\n",
    "        model = dLocalMAP([c,alpha])\n",
    "        \n",
    "        #shuffling the data set \n",
    "        shuffle(stims)\n",
    "        for s in stims:\n",
    "            model.stimulate(s)\n",
    "        #print(model.partition)\n",
    "        \n",
    "        #reading the test data \n",
    "        test = pd.read_csv('y.csv',header=None)\n",
    "        test[2] = -1\n",
    "        test = np.array(test)\n",
    "        t = []\n",
    "        for i in test:\n",
    "            t.append(np.argmax(model.query( i ))+1)\n",
    "            stims.append(i+[np.argmax(model.query( i ))+1])\n",
    "    return t\n"
   ]
  },
  {
   "cell_type": "code",
   "execution_count": 6,
   "metadata": {
    "colab": {
     "base_uri": "https://localhost:8080/"
    },
    "id": "lC3N72gmXQFV",
    "outputId": "e72d368c-4854-499e-ae55-36992df92118"
   },
   "outputs": [
    {
     "name": "stdout",
     "output_type": "stream",
     "text": [
      "[2, 2, 3, 2, 3, 3, 3, 2, 2, 3]\n",
      "[2, 2, 3, 2, 3, 3, 3, 2, 2, 3]\n",
      "[2, 2, 3, 2, 3, 3, 3, 2, 3, 3]\n",
      "[2, 2, 3, 2, 3, 3, 3, 2, 2, 3]\n",
      "[3, 2, 3, 2, 3, 3, 3, 2, 2, 3]\n"
     ]
    }
   ],
   "source": [
    "#trying for differnet parameters\n",
    "for i in range(5): #c = 0.1 and alpha[3] = [0.7,0.3,0.6]\n",
    "    print(testlocalmapD([np.ones(100),np.ones(100),[0.7,0.3,0.6]] ,0.1))"
   ]
  },
  {
   "cell_type": "code",
   "execution_count": 7,
   "metadata": {
    "colab": {
     "base_uri": "https://localhost:8080/"
    },
    "id": "I8YgSWQ3X_p2",
    "outputId": "9a395cd2-0843-446a-b3c8-57178279af87"
   },
   "outputs": [
    {
     "name": "stdout",
     "output_type": "stream",
     "text": [
      "[2, 2, 1, 2, 2, 3, 2, 2, 2, 1]\n",
      "[2, 2, 1, 2, 2, 3, 2, 2, 2, 1]\n",
      "[2, 2, 1, 2, 2, 3, 2, 2, 2, 1]\n",
      "[2, 2, 1, 2, 2, 3, 2, 2, 2, 1]\n",
      "[2, 2, 1, 2, 2, 3, 2, 2, 2, 1]\n"
     ]
    }
   ],
   "source": [
    "for i in range(5): #c = 0.3 and alpha[3] = [0.7,0.3,0.6]\n",
    "    print(testlocalmapD([np.ones(100),np.ones(100),[0.5,0.4,0.5]] ,0.4))"
   ]
  },
  {
   "cell_type": "code",
   "execution_count": 8,
   "metadata": {
    "colab": {
     "base_uri": "https://localhost:8080/"
    },
    "id": "icssKFbmYQ09",
    "outputId": "b3ae8088-34e8-41a4-dea7-9e9b04099a94"
   },
   "outputs": [
    {
     "name": "stdout",
     "output_type": "stream",
     "text": [
      "[2, 2, 1, 2, 2, 3, 2, 2, 2, 1]\n",
      "[2, 2, 1, 2, 2, 3, 2, 2, 2, 1]\n",
      "[2, 2, 1, 2, 2, 3, 2, 2, 2, 1]\n",
      "[2, 2, 1, 2, 2, 3, 2, 2, 2, 1]\n",
      "[2, 2, 3, 2, 2, 3, 2, 2, 2, 3]\n"
     ]
    }
   ],
   "source": [
    "for i in range(5): #c = 0.3 and alpha[3] = [0.7,0.3,0.6]\n",
    "    print(testlocalmapD([np.ones(100),np.ones(100),[0.7,0.3,0.6]] ,0.3))"
   ]
  },
  {
   "cell_type": "code",
   "execution_count": 9,
   "metadata": {},
   "outputs": [
    {
     "name": "stdout",
     "output_type": "stream",
     "text": [
      "[2, 2, 3, 2, 2, 3, 2, 2, 2, 3]\n",
      "[2, 2, 3, 2, 2, 3, 2, 2, 2, 3]\n",
      "[2, 2, 3, 2, 2, 3, 2, 2, 2, 3]\n",
      "[2, 2, 3, 2, 2, 3, 2, 2, 2, 3]\n",
      "[2, 2, 3, 2, 2, 3, 2, 2, 2, 3]\n"
     ]
    }
   ],
   "source": [
    "for i in range(5): #c = 0.0001 alpha[2] = [0.5,0.3,0.6]\n",
    "    print(testlocalmapD([np.ones(100)/100,np.ones(100)/100,[0.5,0.3,0.6]] ,0.0001))"
   ]
  },
  {
   "cell_type": "code",
   "execution_count": 10,
   "metadata": {},
   "outputs": [
    {
     "data": {
      "text/html": [
       "<div>\n",
       "<style scoped>\n",
       "    .dataframe tbody tr th:only-of-type {\n",
       "        vertical-align: middle;\n",
       "    }\n",
       "\n",
       "    .dataframe tbody tr th {\n",
       "        vertical-align: top;\n",
       "    }\n",
       "\n",
       "    .dataframe thead th {\n",
       "        text-align: right;\n",
       "    }\n",
       "</style>\n",
       "<table border=\"1\" class=\"dataframe\">\n",
       "  <thead>\n",
       "    <tr style=\"text-align: right;\">\n",
       "      <th></th>\n",
       "      <th>0</th>\n",
       "      <th>1</th>\n",
       "      <th>2</th>\n",
       "    </tr>\n",
       "  </thead>\n",
       "  <tbody>\n",
       "    <tr>\n",
       "      <th>0</th>\n",
       "      <td>74</td>\n",
       "      <td>67</td>\n",
       "      <td>2</td>\n",
       "    </tr>\n",
       "    <tr>\n",
       "      <th>1</th>\n",
       "      <td>69</td>\n",
       "      <td>63</td>\n",
       "      <td>2</td>\n",
       "    </tr>\n",
       "    <tr>\n",
       "      <th>2</th>\n",
       "      <td>92</td>\n",
       "      <td>81</td>\n",
       "      <td>3</td>\n",
       "    </tr>\n",
       "    <tr>\n",
       "      <th>3</th>\n",
       "      <td>64</td>\n",
       "      <td>61</td>\n",
       "      <td>2</td>\n",
       "    </tr>\n",
       "    <tr>\n",
       "      <th>4</th>\n",
       "      <td>66</td>\n",
       "      <td>84</td>\n",
       "      <td>2</td>\n",
       "    </tr>\n",
       "    <tr>\n",
       "      <th>5</th>\n",
       "      <td>76</td>\n",
       "      <td>68</td>\n",
       "      <td>3</td>\n",
       "    </tr>\n",
       "    <tr>\n",
       "      <th>6</th>\n",
       "      <td>61</td>\n",
       "      <td>58</td>\n",
       "      <td>2</td>\n",
       "    </tr>\n",
       "    <tr>\n",
       "      <th>7</th>\n",
       "      <td>64</td>\n",
       "      <td>76</td>\n",
       "      <td>2</td>\n",
       "    </tr>\n",
       "    <tr>\n",
       "      <th>8</th>\n",
       "      <td>68</td>\n",
       "      <td>66</td>\n",
       "      <td>2</td>\n",
       "    </tr>\n",
       "    <tr>\n",
       "      <th>9</th>\n",
       "      <td>34</td>\n",
       "      <td>61</td>\n",
       "      <td>3</td>\n",
       "    </tr>\n",
       "  </tbody>\n",
       "</table>\n",
       "</div>"
      ],
      "text/plain": [
       "    0   1  2\n",
       "0  74  67  2\n",
       "1  69  63  2\n",
       "2  92  81  3\n",
       "3  64  61  2\n",
       "4  66  84  2\n",
       "5  76  68  3\n",
       "6  61  58  2\n",
       "7  64  76  2\n",
       "8  68  66  2\n",
       "9  34  61  3"
      ]
     },
     "execution_count": 10,
     "metadata": {},
     "output_type": "execute_result"
    }
   ],
   "source": [
    "pred_y = testlocalmapD([np.ones(100)/100,np.ones(100)/100,[0.5,0.3,0.6]] ,0.0001)\n",
    "y = pd.DataFrame(y_test)\n",
    "y[2] = pred_y\n",
    "y.to_csv('Q2_Y.csv',index= None)\n",
    "y"
   ]
  },
  {
   "cell_type": "markdown",
   "metadata": {
    "id": "4h1JnUYPFQYE"
   },
   "source": [
    "c = coupling probabliltiy \\\n",
    "alpha0 = strength of beleif of priors\n",
    "\\\n",
    "In RMC we assume that the category is also the feature of that data point the category labels are learned by clustering the stimuli together using Bayesian inference. In RMC there no fixed number of cluster , clusters are dependent on coupling probability. So by greater value of c we were getting only one label, by decresing value of c we were getting different labels \n",
    "\n",
    "\n"
   ]
  },
  {
   "cell_type": "markdown",
   "metadata": {
    "id": "_4wi5dgPCjUH"
   },
   "source": [
    "# Q3"
   ]
  },
  {
   "cell_type": "code",
   "execution_count": 11,
   "metadata": {
    "colab": {
     "base_uri": "https://localhost:8080/"
    },
    "id": "PHauGX6i9YJJ",
    "outputId": "b648e23c-f561-4df8-a3ac-efa9ce400ba1"
   },
   "outputs": [
    {
     "name": "stdout",
     "output_type": "stream",
     "text": [
      "for trails 0  -  [2, 2, 3, 2, 2, 3, 2, 2, 2, 1]\n",
      "for trails 1  -  [2, 2, 3, 2, 2, 3, 2, 2, 2, 1]\n",
      "for trails 2  -  [2, 2, 3, 2, 2, 3, 2, 2, 2, 1]\n",
      "for trails 3  -  [2, 2, 3, 2, 2, 3, 2, 2, 2, 1]\n",
      "for trails 4  -  [2, 2, 3, 2, 2, 3, 2, 2, 2, 1]\n",
      "for trails 5  -  [2, 2, 3, 2, 2, 3, 2, 2, 2, 1]\n",
      "for trails 6  -  [2, 2, 3, 2, 2, 3, 2, 2, 2, 1]\n",
      "for trails 7  -  [2, 2, 3, 2, 2, 3, 2, 2, 2, 1]\n",
      "for trails 8  -  [2, 2, 3, 2, 2, 3, 2, 2, 2, 1]\n",
      "for trails 9  -  [2, 2, 3, 2, 2, 3, 2, 2, 2, 1]\n"
     ]
    }
   ],
   "source": [
    "#running the gcm for 10 trails and shuffling the input data\n",
    "for i in range(10):\n",
    "    #shuffling the train data \n",
    "    np.random.shuffle(x_train)\n",
    "    print('for trails',i,' - ',predict(x_train,y_test,a,g))"
   ]
  },
  {
   "cell_type": "markdown",
   "metadata": {},
   "source": [
    "For RMC tried different parameters to prove that RMC has data exchangeability."
   ]
  },
  {
   "cell_type": "code",
   "execution_count": 12,
   "metadata": {
    "colab": {
     "base_uri": "https://localhost:8080/"
    },
    "id": "EWXadqKCBdDP",
    "outputId": "74058566-505d-4c04-c20e-b08bee8cc751"
   },
   "outputs": [
    {
     "name": "stdout",
     "output_type": "stream",
     "text": [
      "for trails 0  -  [2, 2, 3, 2, 2, 3, 2, 2, 2, 3]\n",
      "for trails 1  -  [2, 2, 3, 2, 2, 3, 2, 2, 2, 3]\n",
      "for trails 2  -  [2, 2, 3, 2, 2, 3, 2, 2, 2, 3]\n",
      "for trails 3  -  [2, 2, 3, 2, 2, 3, 2, 2, 2, 3]\n",
      "for trails 4  -  [2, 2, 3, 2, 2, 3, 2, 2, 2, 3]\n",
      "for trails 5  -  [2, 2, 3, 2, 2, 3, 2, 2, 2, 3]\n",
      "for trails 6  -  [2, 2, 3, 2, 2, 3, 2, 2, 2, 3]\n",
      "for trails 7  -  [2, 2, 3, 2, 2, 3, 2, 2, 2, 3]\n",
      "for trails 8  -  [2, 2, 3, 2, 2, 3, 2, 2, 2, 3]\n",
      "for trails 9  -  [2, 2, 3, 2, 2, 3, 2, 2, 2, 3]\n"
     ]
    }
   ],
   "source": [
    "#running the rmc for 10 trails data is being shuffled inside the funtion\n",
    "#one of the parameters for which the data is consistent\n",
    "for i in range(10):\n",
    "     print('for trails',i,' - ',testlocalmapD([np.ones(100)/100,np.ones(100)/100,[0.5,0.3,0.6]] ,0.0001))"
   ]
  },
  {
   "cell_type": "markdown",
   "metadata": {
    "id": "oSS3MrNGCspZ"
   },
   "source": [
    "The above results show that the order in which we enter the data does not matter."
   ]
  }
 ],
 "metadata": {
  "colab": {
   "collapsed_sections": [],
   "name": "GCM.ipynb",
   "provenance": []
  },
  "kernelspec": {
   "display_name": "Python 3 (ipykernel)",
   "language": "python",
   "name": "python3"
  },
  "language_info": {
   "codemirror_mode": {
    "name": "ipython",
    "version": 3
   },
   "file_extension": ".py",
   "mimetype": "text/x-python",
   "name": "python",
   "nbconvert_exporter": "python",
   "pygments_lexer": "ipython3",
   "version": "3.9.7"
  }
 },
 "nbformat": 4,
 "nbformat_minor": 1
}

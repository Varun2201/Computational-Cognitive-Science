{
 "cells": [
  {
   "cell_type": "code",
   "execution_count": 1,
   "metadata": {
    "id": "wOFAdKJTuq-c"
   },
   "outputs": [],
   "source": [
    "import numpy as np\n",
    "import random\n",
    "import matplotlib.pyplot as plt"
   ]
  },
  {
   "cell_type": "code",
   "execution_count": 2,
   "metadata": {
    "id": "mDwsBrM_uysd"
   },
   "outputs": [],
   "source": [
    "def drawFromADist(p):\n",
    "    if(np.sum(p)==0):\n",
    "        p = 0.05*(np.ones(1,len(p)))\n",
    "    p = p/np.sum(p)\n",
    "    id = np.where((np.random.rand() - np.cumsum(p))<0)\n",
    "    sample = np.min(id)\n",
    "    out = np.zeros(np.size(p))\n",
    "    out[sample] = 1\n",
    "    return out\n",
    "\n",
    "#to generate a random schedule \n",
    "def schedule(N_ITEMS,ENCODING_TIME):\n",
    "    a = []\n",
    "    for i in range(N_ITEMS):\n",
    "        x = int(np.round(np.random.uniform()*ENCODING_TIME))\n",
    "        a.append(x)\n",
    "    a.sort()\n",
    "    b = [[a[i],i] for i in range(N_ITEMS)]\n",
    "    print(b)\n",
    "    return np.array(b)\n",
    "\n",
    "#to calculate schedule load\n",
    "def load(sch,ENCODING_TIME=500):\n",
    "    return ENCODING_TIME/np.median(np.diff(sch[:,0]))\n",
    "\n"
   ]
  },
  {
   "cell_type": "markdown",
   "metadata": {
    "id": "KT8FhSLeRT21"
   },
   "source": [
    "# Q1"
   ]
  },
  {
   "cell_type": "code",
   "execution_count": 3,
   "metadata": {
    "colab": {
     "base_uri": "https://localhost:8080/"
    },
    "id": "NRJ5OkXIvbkR",
    "outputId": "77d54a6e-605b-451f-c3a7-b134f6906c4f"
   },
   "outputs": [
    {
     "name": "stdout",
     "output_type": "stream",
     "text": [
      "Average retrieval  8.395\n",
      "Scheduling load 10.204081632653061\n"
     ]
    }
   ],
   "source": [
    "N_WORLD_FEATURES = 5\n",
    "N_ITEMS = 10\n",
    "ENCODING_TIME = 500\n",
    "TEST_TIME = 20\n",
    "\n",
    "#one of the schedule gives retrieval greater than 7\n",
    "sch = np.array([[ 50, 0],[ 99, 1],[224, 2],[226, 3],[273, 4],[286, 5],[338, 6],[377, 7],[437, 8],[486, 9]])\n",
    "\n",
    "def expq1(sch,ENCODING_TIME=500,N_ITEMS=10,N_WORLD_FEATURES=5,TEST_TIME=20):\n",
    "    #initializing the world\n",
    "    world_m = np.array([1,2,1,2,3])\n",
    "    world_var = 1\n",
    "    delta = 0.05                     \n",
    "    beta_param = 0.05         \n",
    "    m = 0\n",
    "    \n",
    "    encoding = np.zeros((N_ITEMS,N_WORLD_FEATURES+1))\n",
    "    world = np.ones(5)\n",
    "   \n",
    "    for time in range(ENCODING_TIME):   \n",
    "        world_m = world_m + delta\n",
    "        #sampling the context from the world mean \n",
    "        temp = np.random.normal(world_m,world_var)\n",
    "        #context drift \n",
    "        world = beta_param*world + temp\n",
    "        #encoding the at the given time\n",
    "        if(m<(N_ITEMS)):\n",
    "            if(time==sch[m][0]):\n",
    "                encoding[m,:]= np.append(world,m)\n",
    "                m =  m + 1\n",
    "    out = []\n",
    "    while(time<ENCODING_TIME+TEST_TIME):\n",
    "        world_m = world_m + delta\n",
    "        temp = np.random.normal(world_m,world_var)\n",
    "        world = beta_param*world + temp\n",
    "        soa = np.zeros(N_ITEMS)\n",
    "        #calculating the activation of context with all encoding items\n",
    "        for m in range(0,N_ITEMS):\n",
    "            soa[m] = np.sum(np.dot(encoding[m,:5],world)) \n",
    "        out.append(np.where(drawFromADist(soa)>0)[0])\n",
    "        time = time + 1      \n",
    "\n",
    "    success = len(np.unique(out)) \n",
    "    return success\n",
    "\n",
    "\n",
    "#taking mean of 200 to reduce the randomness of retrieval\n",
    "a = []\n",
    "for i in range(200):\n",
    "    a.append(expq1(sch))\n",
    "print('Average retrieval ',np.mean(a))\n",
    "print('Scheduling load', load(sch))"
   ]
  },
  {
   "cell_type": "markdown",
   "metadata": {
    "id": "gAO52h1sRWCb"
   },
   "source": [
    "# Q2"
   ]
  },
  {
   "cell_type": "code",
   "execution_count": 4,
   "metadata": {
    "colab": {
     "base_uri": "https://localhost:8080/",
     "height": 282
    },
    "id": "ZYh1dHF4wCX2",
    "outputId": "c658f29d-f4c2-436c-dfe5-1994395f6445"
   },
   "outputs": [
    {
     "name": "stdout",
     "output_type": "stream",
     "text": [
      "\n"
     ]
    },
    {
     "data": {
      "image/png": "[encoded data removed]",
      "text/plain": [
       "<Figure size 432x288 with 1 Axes>"
      ]
     },
     "metadata": {
      "needs_background": "light"
     },
     "output_type": "display_data"
    }
   ],
   "source": [
    "#gaussian mixture distribution \n",
    "''' delta is sampled with equal probability from each distribtuion with means 1,3 and var 0.2,0.5'''\n",
    "def delta():\n",
    "    mu = [1,3]\n",
    "    var = [0.2,0.5]\n",
    "    a = random.sample([0,1],1)[0]\n",
    "    delta = np.random.normal(mu[a],var[a])\n",
    "    return delta\n",
    "\n",
    "a = [] \n",
    "#plotting the distribution\n",
    "for i in range(10000):\n",
    "    a.append(delta())\n",
    "plt.hist(a,bins=40)\n",
    "print()"
   ]
  },
  {
   "cell_type": "code",
   "execution_count": 5,
   "metadata": {
    "id": "X_ew0e8axYRo"
   },
   "outputs": [],
   "source": [
    "def experiment1(schedule):\n",
    "    #initializing the world\n",
    "    world_m = np.array([1,2,1,2,5])\n",
    "    world_var = 1\n",
    "    #delta = 0.05                     \n",
    "    beta_param = 0.001               \n",
    "    m = 0\n",
    "    world = np.ones(5)\n",
    "\n",
    "    encoding = np.zeros((N_ITEMS,N_WORLD_FEATURES+1))\n",
    "    for time in range(ENCODING_TIME):   \n",
    "        world_m = world_m + delta()\n",
    "        temp = np.random.normal(world_m,world_var)\n",
    "        #using beta parameter for the context drift\n",
    "        world = beta_param*world + temp\n",
    "        #encoding the at the given time\n",
    "        if(m<(N_ITEMS)):\n",
    "            if(time==sch[m][0]):\n",
    "                encoding[m,:]= np.append(world,m)\n",
    "                m =  m + 1\n",
    "    out = []\n",
    "    while(time<ENCODING_TIME+TEST_TIME):\n",
    "        world_m = world_m + delta()\n",
    "        temp = np.random.normal(world_m,world_var)\n",
    "        #using beta parameter for the context drift\n",
    "        world = beta_param*world + temp\n",
    "        soa = np.zeros(N_ITEMS)\n",
    "        #calculating the activition of all encoding items\n",
    "        for m in range(0,N_ITEMS):\n",
    "            soa[m] = np.dot(encoding[m,:5],world)\n",
    "        out.append(np.where(drawFromADist(soa)>0)[0])\n",
    "        time = time + 1      \n",
    "\n",
    "    success = len(np.unique(out)) \n",
    "    return success"
   ]
  },
  {
   "cell_type": "code",
   "execution_count": 6,
   "metadata": {
    "colab": {
     "base_uri": "https://localhost:8080/"
    },
    "id": "jPbz-5L0yPt2",
    "outputId": "8ddeb2aa-ad29-4b31-8ac8-dcb93b306f77"
   },
   "outputs": [
    {
     "name": "stdout",
     "output_type": "stream",
     "text": [
      "[[7, 0], [21, 1], [108, 2], [207, 3], [239, 4], [339, 5], [351, 6], [370, 7], [400, 8], [468, 9]]\n"
     ]
    }
   ],
   "source": [
    "sch = schedule(10,500)\n",
    "\n",
    "def run(sch):\n",
    "    print('Schedule is - \\n',sch)\n",
    "    print('Schedule load is - ',load(sch))\n",
    "    a = []\n",
    "    for i in range(100):\n",
    "        a.append(experiment1(sch))\n",
    "    print('Mean retrieval is - ', np.mean(a))\n",
    "    return np.mean(a)\n",
    "\n",
    "def createsch(lis):\n",
    "    temp = []\n",
    "    for i in range(len(lis)):\n",
    "        temp.append([lis[i],i])\n",
    "    return np.array(temp)"
   ]
  },
  {
   "cell_type": "markdown",
   "metadata": {
    "id": "y36xTEKajZ2U"
   },
   "source": [
    "Trying out different schedule to get the optimal schedule load"
   ]
  },
  {
   "cell_type": "code",
   "execution_count": 7,
   "metadata": {
    "colab": {
     "base_uri": "https://localhost:8080/"
    },
    "id": "x0DbpluYyZ3n",
    "outputId": "82b55e62-866b-485a-8424-387c0bf9dc85"
   },
   "outputs": [
    {
     "name": "stdout",
     "output_type": "stream",
     "text": [
      "Schedule is - \n",
      " [[490   0]\n",
      " [491   1]\n",
      " [492   2]\n",
      " [493   3]\n",
      " [494   4]\n",
      " [495   5]\n",
      " [496   6]\n",
      " [497   7]\n",
      " [498   8]\n",
      " [499   9]]\n",
      "Schedule load is -  500.0\n",
      "Mean retrieval is -  8.97\n"
     ]
    },
    {
     "data": {
      "text/plain": [
       "8.97"
      ]
     },
     "execution_count": 7,
     "metadata": {},
     "output_type": "execute_result"
    }
   ],
   "source": [
    "#retreival is greater than 8 but scedule load is 500\n",
    "a = [490 + i for i in range(10)]\n",
    "sch = createsch(a)\n",
    "run(sch)"
   ]
  },
  {
   "cell_type": "code",
   "execution_count": 8,
   "metadata": {
    "colab": {
     "base_uri": "https://localhost:8080/"
    },
    "id": "9m12iM06yuOj",
    "outputId": "e0e030c8-3a05-4075-e2f7-1ca757c72a24"
   },
   "outputs": [
    {
     "name": "stdout",
     "output_type": "stream",
     "text": [
      "10.0\n",
      "Schedule is - \n",
      " [[ 49   0]\n",
      " [ 99   1]\n",
      " [149   2]\n",
      " [199   3]\n",
      " [249   4]\n",
      " [299   5]\n",
      " [349   6]\n",
      " [399   7]\n",
      " [449   8]\n",
      " [499   9]]\n",
      "Schedule load is -  10.0\n",
      "Mean retrieval is -  8.07\n"
     ]
    },
    {
     "data": {
      "text/plain": [
       "8.07"
      ]
     },
     "execution_count": 8,
     "metadata": {},
     "output_type": "execute_result"
    }
   ],
   "source": [
    "#scedule with the equal gap\n",
    "a = [50*i-1 for i in range(1,11)]\n",
    "sch = createsch(a)\n",
    "print(load(sch))\n",
    "run(sch)"
   ]
  },
  {
   "cell_type": "code",
   "execution_count": 9,
   "metadata": {
    "colab": {
     "base_uri": "https://localhost:8080/"
    },
    "id": "NDDtBUBsThhS",
    "outputId": "cc12da79-1c47-4d6d-bb3a-a60144cd45a4"
   },
   "outputs": [
    {
     "name": "stdout",
     "output_type": "stream",
     "text": [
      "5.05050505050505\n",
      "Schedule is - \n",
      " [[  0   0]\n",
      " [  1   1]\n",
      " [  2   2]\n",
      " [  4   3]\n",
      " [103   4]\n",
      " [202   5]\n",
      " [301   6]\n",
      " [400   7]\n",
      " [499   8]]\n",
      "Schedule load is -  5.05050505050505\n",
      "Mean retrieval is -  5.04\n"
     ]
    },
    {
     "data": {
      "text/plain": [
       "5.04"
      ]
     },
     "execution_count": 9,
     "metadata": {},
     "output_type": "execute_result"
    }
   ],
   "source": [
    "#The schedule load is less but the retrieval is also less than 7 \n",
    "a = [0,1,2,4,103,202,301,400,499]\n",
    "sch = createsch(a)\n",
    "print(load(sch))\n",
    "run(sch)"
   ]
  },
  {
   "cell_type": "code",
   "execution_count": 10,
   "metadata": {
    "colab": {
     "base_uri": "https://localhost:8080/"
    },
    "id": "DQ7whGlVyyqu",
    "outputId": "b277e9f7-8509-48ba-e3a9-c47ab0e58b7b"
   },
   "outputs": [
    {
     "name": "stdout",
     "output_type": "stream",
     "text": [
      "5.05050505050505\n",
      "Schedule is - \n",
      " [[  0   0]\n",
      " [ 99   1]\n",
      " [198   2]\n",
      " [297   3]\n",
      " [396   4]\n",
      " [495   5]\n",
      " [496   6]\n",
      " [497   7]\n",
      " [498   8]\n",
      " [499   9]]\n",
      "Schedule load is -  5.05050505050505\n",
      "Mean retrieval is -  7.74\n"
     ]
    },
    {
     "data": {
      "text/plain": [
       "7.74"
      ]
     },
     "execution_count": 10,
     "metadata": {},
     "output_type": "execute_result"
    }
   ],
   "source": [
    "#The schedule load is less and also the average retreival is also greater than 7\n",
    "a = [0,99,198,297,396,495,496,497,498,499]\n",
    "sch = createsch(a)\n",
    "print(load(sch))\n",
    "run(sch)"
   ]
  },
  {
   "cell_type": "markdown",
   "metadata": {
    "id": "M6SLpZ90aeHB"
   },
   "source": [
    "The idea of getting minimum schedule load is that the median difference should be maximum. To get the median difference maximum we should have half minimum distance and remaining distance should be maximum. Here the maximum median distance will be 99.\n",
    "\n",
    "The optimal schedule pattern is [0,99,198,297,396,495,496,497,498,499]"
   ]
  },
  {
   "cell_type": "markdown",
   "metadata": {
    "id": "WAW3zq55RYfI"
   },
   "source": [
    "# Q3"
   ]
  },
  {
   "cell_type": "markdown",
   "metadata": {
    "id": "cakKQf7DsG7P"
   },
   "source": [
    "In this part since agent does not know the distribution, to approximate this distribution parameters, EM algorithm is used."
   ]
  },
  {
   "cell_type": "code",
   "execution_count": 16,
   "metadata": {
    "id": "omwjdF5ty-o3"
   },
   "outputs": [],
   "source": [
    "from sklearn.mixture import GaussianMixture as GMM\n",
    "\n",
    "def exp2(sch):\n",
    "    #initializing the world    \n",
    "    world_m = np.array([1,2,1,2,3])\n",
    "    world_var = 1\n",
    "    #delta = 0.05                     \n",
    "    beta_param = 0.001               \n",
    "    m = 0\n",
    "    \n",
    "    world = np.zeros(5)\n",
    "    delta_samples = []\n",
    "    encoding = np.zeros((N_ITEMS,N_WORLD_FEATURES+1))\n",
    "    \n",
    "    for time in range(ENCODING_TIME):  \n",
    "        temp_delta = delta()\n",
    "        world_m = world_m  + temp_delta \n",
    "        delta_samples.append(temp_delta)\n",
    "        temp = np.random.normal(world_m,world_var)\n",
    "        #beta parameter for the context drift\n",
    "        world = beta_param*world + temp\n",
    "        #encoding the at the given time\n",
    "        if(m<(N_ITEMS)):\n",
    "            if(time==sch[m][0]):\n",
    "                encoding[m,:]= np.append(world,m)\n",
    "                m =  m + 1\n",
    "\n",
    "    #EM to find the parameter of the distribution\n",
    "    x = GMM(2, covariance_type='diag').fit(np.array(delta_samples).reshape(-1,1))\n",
    "    #print(x.means_)\n",
    "    #print(np.sqrt(x.covariances_))\n",
    "    m1 = x.means_[0][0]\n",
    "    m2 = x.means_[1][0]\n",
    "    v1 = round(np.sqrt(x.covariances_[0][0]),4)\n",
    "    v2 = round(np.sqrt(x.covariances_[1][0]),4)\n",
    "    #print('Means - ',m1,m2,'Variance - ',v1,v2)\n",
    "\n",
    "\n",
    "    #delta funtion to get means from the em\n",
    "    def delta_samp(x,y,v1,v2):\n",
    "        mu = [m1,m2]\n",
    "        var = [v1,v2]\n",
    "        a = random.sample([0,1],1)[0]\n",
    "        delta = np.random.normal(mu[a],var[a])\n",
    "        return delta\n",
    "\n",
    "\n",
    "    out = []\n",
    "\n",
    "    x = world = np.ones(5)\n",
    "    while(time<ENCODING_TIME+TEST_TIME):\n",
    "        world_m = world_m + delta_samp(m1,m2,v1,v2)\n",
    "        temp = np.random.normal(world_m,world_var)\n",
    "        world = beta_param*world + temp\n",
    "        soa = np.zeros(N_ITEMS)\n",
    "        #calculating the activition of all encoding items\n",
    "        for m in range(0,N_ITEMS):\n",
    "            soa[m] = np.dot(encoding[m,:5],world)\n",
    "        out.append(np.where(drawFromADist(soa)>0)[0])\n",
    "        time = time + 1      \n",
    "    success = len(np.unique(out)) \n",
    "    return success"
   ]
  },
  {
   "cell_type": "code",
   "execution_count": 17,
   "metadata": {
    "colab": {
     "base_uri": "https://localhost:8080/"
    },
    "id": "KGa9YpdhzCIm",
    "outputId": "2b681d9e-eb50-419e-94c4-24422d58e349"
   },
   "outputs": [
    {
     "name": "stdout",
     "output_type": "stream",
     "text": [
      "Average retrieval -  8.28\n",
      "Schedule load -  10.204081632653061\n"
     ]
    }
   ],
   "source": [
    "#one of the fixed schedule for which the retrieval is greater than 7\n",
    "sch = np.array([[ 50, 0],[ 99, 1],[220, 2],[226, 3],[273, 4],[286, 5],[338, 6],[377, 7],[437, 8],[486, 9]])\n",
    "def run2(sch):\n",
    "    temp = []\n",
    "    for i in range(100):\n",
    "        temp.append(exp2(sch))\n",
    "    print('Average retrieval - ',np.mean(temp))\n",
    "    print('Schedule load - ',load(sch))\n",
    "run2(sch)"
   ]
  },
  {
   "cell_type": "markdown",
   "metadata": {
    "id": "lKJdBrE4irDC"
   },
   "source": [
    "The optimal scheduling pattern for this part also remains the same"
   ]
  },
  {
   "cell_type": "code",
   "execution_count": 18,
   "metadata": {
    "colab": {
     "base_uri": "https://localhost:8080/"
    },
    "id": "XPKuwnsgzD8e",
    "outputId": "81d8d1eb-67f2-4e6b-91b3-7ec717449b3b"
   },
   "outputs": [
    {
     "name": "stdout",
     "output_type": "stream",
     "text": [
      "Average retrieval -  8.9\n",
      "Schedule load -  500.0\n"
     ]
    }
   ],
   "source": [
    "a = [490 + i for i in range(10)]\n",
    "sch = createsch(a)\n",
    "run2(sch)"
   ]
  },
  {
   "cell_type": "code",
   "execution_count": 19,
   "metadata": {
    "colab": {
     "base_uri": "https://localhost:8080/"
    },
    "id": "M2YnoOz9ZSct",
    "outputId": "71e02c4b-e96f-45cc-e054-57216549a908"
   },
   "outputs": [
    {
     "name": "stdout",
     "output_type": "stream",
     "text": [
      "Average retrieval -  4.85\n",
      "Schedule load -  5.05050505050505\n"
     ]
    }
   ],
   "source": [
    "#schedule load is less but retrieval is also less than 7\n",
    "a = [0,1,2,4,103,202,301,400,499]\n",
    "sch = createsch(a)\n",
    "run2(sch)"
   ]
  },
  {
   "cell_type": "code",
   "execution_count": 20,
   "metadata": {
    "colab": {
     "base_uri": "https://localhost:8080/"
    },
    "id": "2UQ5LrqtZW21",
    "outputId": "dc8ea176-d026-418c-f7ca-acd9051952ec"
   },
   "outputs": [
    {
     "name": "stdout",
     "output_type": "stream",
     "text": [
      "Average retrieval -  7.74\n",
      "Schedule load -  5.05050505050505\n"
     ]
    }
   ],
   "source": [
    "a = [0,99,198,297,396,495,496,497,498,499]\n",
    "sch = createsch(a)\n",
    "run2(sch)"
   ]
  },
  {
   "cell_type": "code",
   "execution_count": null,
   "metadata": {},
   "outputs": [],
   "source": []
  }
 ],
 "metadata": {
  "colab": {
   "collapsed_sections": [],
   "name": "21111064.ipynb",
   "provenance": []
  },
  "kernelspec": {
   "display_name": "Python 3 (ipykernel)",
   "language": "python",
   "name": "python3"
  },
  "language_info": {
   "codemirror_mode": {
    "name": "ipython",
    "version": 3
   },
   "file_extension": ".py",
   "mimetype": "text/x-python",
   "name": "python",
   "nbconvert_exporter": "python",
   "pygments_lexer": "ipython3",
   "version": "3.9.7"
  }
 },
 "nbformat": 4,
 "nbformat_minor": 1
}

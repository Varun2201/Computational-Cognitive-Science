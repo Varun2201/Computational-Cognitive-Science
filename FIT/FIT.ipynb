{
 "cells": [
  {
   "cell_type": "code",
   "execution_count": 1,
   "metadata": {
    "id": "LiJrm-LtuZyZ"
   },
   "outputs": [],
   "source": [
    "import cv2\n",
    "import numpy as np\n",
    "from matplotlib import pyplot as plt\n",
    "import matplotlib.cm as cm\n",
    "from random import *\n",
    "import time"
   ]
  },
  {
   "cell_type": "code",
   "execution_count": 2,
   "metadata": {
    "id": "XtM7mhQZ37Yn"
   },
   "outputs": [],
   "source": [
    "#converts x,y for plotting\n",
    "def convert(x,y):\n",
    "    a = []\n",
    "    for i in range(len(x)):\n",
    "        a.append([x[i],y[i]])\n",
    "    return np.array(a,np.int32)\n",
    "\n",
    "#get square coordinates\n",
    "def get_square(x,y,side):\n",
    "    side = side/2\n",
    "    r = [x-side,x+side,x+side,x-side]\n",
    "    c = [y-side,y-side,y+side,y+side]\n",
    "    return convert(r,c)\n",
    "\n",
    "#get triangle coordinates\n",
    "def get_triangle(r,c,height = 9):\n",
    "    side = np.sqrt(4*((height)**2)/3)\n",
    "    x = height/3\n",
    "    r0 = [r,r+side/2,r-side/2]\n",
    "    c0=  [c-2*x,c+x,c+x]\n",
    "    return convert(r0,c0)\n",
    "\n",
    "#draw box around the image\n",
    "def box(a,size = 50):\n",
    "    p = get_square(80,80,100) \n",
    "    k = cv2.polylines(a,[p.reshape((-1,1,2))],True,color=(255,255,255),thickness=5)\n",
    "    return k\n",
    "\n",
    "#draws image for given color and shape\n",
    "#shape 0 - triangle and 1- square\n",
    "def draw(color,shape):\n",
    "    a = np.zeros((160,160,3))\n",
    "    if shape == 0 :\n",
    "        p = get_triangle(80,80,80)\n",
    "    if shape == 1 :\n",
    "        p = get_square(80,80,80)\n",
    "    k = cv2.polylines(a,[p.reshape((-1,1,2))],True,color=(0,0,0),thickness=1)\n",
    "    k = cv2.fillPoly(a,[p],color)\n",
    "    return k"
   ]
  },
  {
   "cell_type": "code",
   "execution_count": 3,
   "metadata": {
    "colab": {
     "base_uri": "https://localhost:8080/",
     "height": 250
    },
    "id": "If2D4yLdPpKd",
    "outputId": "cc8c3898-0baf-4359-d6bd-1de8c225ce08"
   },
   "outputs": [
    {
     "name": "stderr",
     "output_type": "stream",
     "text": [
      "Clipping input data to the valid range for imshow with RGB data ([0..1] for floats or [0..255] for integers).\n",
      "Clipping input data to the valid range for imshow with RGB data ([0..1] for floats or [0..255] for integers).\n"
     ]
    },
    {
     "data": {
      "image/png": "[encoded data removed]",
      "text/plain": [
       "<Figure size 432x288 with 2 Axes>"
      ]
     },
     "metadata": {
      "needs_background": "light"
     },
     "output_type": "display_data"
    }
   ],
   "source": [
    "#draw shape triangle \n",
    "red = (255,0,0)\n",
    "blue = (0,0,255)\n",
    "x = draw(red,0)\n",
    "plt.subplot(1,2,1)\n",
    "plt.imshow(x,cmap=cm.Greys)\n",
    "plt.title('triangle')\n",
    "plt.subplot(1,2,2)\n",
    "\n",
    "#draw shape square and box\n",
    "x = draw(blue,1)\n",
    "x= box(x)\n",
    "plt.imshow(x,cmap=cm.Greys)\n",
    "plt.title('square')\n",
    "plt.show()"
   ]
  },
  {
   "cell_type": "markdown",
   "metadata": {
    "id": "EnTDQ5xG91qz"
   },
   "source": [
    "# Q1"
   ]
  },
  {
   "cell_type": "code",
   "execution_count": 4,
   "metadata": {
    "id": "1BizZGI_31D5"
   },
   "outputs": [],
   "source": [
    "def complexcell(img):\n",
    "    rot = [np.pi,np.pi/2,np.pi/3,np.pi*0.66]\n",
    "    filter = []\n",
    "    shape = []\n",
    "    #creating filters\n",
    "    for i in rot:\n",
    "        filter.append(cv2.getGaborKernel((13,13),3.1,i,np.pi/4,1,0))\n",
    "\n",
    "    #passing image through filters    \n",
    "    for i in range(len(rot)):\n",
    "        x = cv2.filter2D(img,-1,filter[i])\n",
    "        x = cv2.dilate(x, kernel = np.ones((5,5)),iterations=1)\n",
    "        x = cv2.erode(x,kernel = np.ones((5,5)),iterations=2)\n",
    "        #thresholding \n",
    "        x[x>80]=255\n",
    "        x[x<=80]=0\n",
    "        if x.mean() > 0.2 :\n",
    "            shape.append(1)\n",
    "        else:\n",
    "            shape.append(0)\n",
    "    if shape[1]==1 and shape[2]==1 and shape[3]==1 and shape[0]==0:\n",
    "        return 'triangle'\n",
    "    elif shape[1]==1 and shape[0]==1 and shape[2]==0 and shape[3]==0:\n",
    "        return 'square' \n",
    "    else:\n",
    "        return 'another'"
   ]
  },
  {
   "cell_type": "code",
   "execution_count": 5,
   "metadata": {
    "colab": {
     "base_uri": "https://localhost:8080/",
     "height": 390
    },
    "id": "TZpWDe7bdSXv",
    "outputId": "3514a742-d870-46e5-a6dd-4a61b81041b2"
   },
   "outputs": [
    {
     "data": {
      "image/png": "[encoded data removed]",
      "text/plain": [
       "<Figure size 432x432 with 4 Axes>"
      ]
     },
     "metadata": {
      "needs_background": "light"
     },
     "output_type": "display_data"
    }
   ],
   "source": [
    "x1 = cv2.getGaborKernel((13,13),3.1,0,np.pi/4,1,0)\n",
    "x2 = cv2.getGaborKernel((13,13),3.1,np.pi/3,np.pi/4,1,0)\n",
    "x3 = cv2.getGaborKernel((13,13),3.1,np.pi/2,np.pi/4,1,0)\n",
    "x4 = cv2.getGaborKernel((13,13),3.1,np.pi*0.66,np.pi/4,1,0)\n",
    "\n",
    "fig ,ax = plt.subplots(figsize=(6,6))\n",
    "#plotting the filters used for complex cell\n",
    "plt.subplot(2,2,1)\n",
    "plt.imshow(x1,cmap=cm.Greys)\n",
    "plt.title('0 degree')\n",
    "plt.subplot(2,2,2)\n",
    "plt.imshow(x2,cmap=cm.Greys)\n",
    "plt.title('60 degree')\n",
    "plt.subplot(2,2,3)\n",
    "plt.imshow(x3,cmap=cm.Greys)\n",
    "plt.title('90 degree')\n",
    "plt.subplot(2,2,4)\n",
    "plt.imshow(x4,cmap=cm.Greys)\n",
    "plt.title('120 degree')\n",
    "plt.show()"
   ]
  },
  {
   "cell_type": "markdown",
   "metadata": {
    "id": "jcA4ewuGRriO"
   },
   "source": [
    "Example for sqaure side detection"
   ]
  },
  {
   "cell_type": "code",
   "execution_count": 6,
   "metadata": {
    "colab": {
     "base_uri": "https://localhost:8080/",
     "height": 222
    },
    "id": "pUriBLI5QpfX",
    "outputId": "f6005e5b-3289-4335-eab2-e64e9a45bf73"
   },
   "outputs": [
    {
     "data": {
      "text/plain": [
       "<matplotlib.image.AxesImage at 0x1ee06ba7640>"
      ]
     },
     "execution_count": 6,
     "metadata": {},
     "output_type": "execute_result"
    },
    {
     "data": {
      "image/png": "[encoded data removed]",
      "text/plain": [
       "<Figure size 432x288 with 2 Axes>"
      ]
     },
     "metadata": {
      "needs_background": "light"
     },
     "output_type": "display_data"
    }
   ],
   "source": [
    "x = draw(blue,1)\n",
    "img = x[:,:,2]\n",
    "x = cv2.filter2D(img,-1,x1)\n",
    "x = cv2.dilate(x, kernel = np.ones((5,5)),iterations=1)\n",
    "x = cv2.erode(x,kernel = np.ones((5,5)),iterations=2)\n",
    "x[x>80]=255\n",
    "x[x<=80]=0\n",
    "plt.subplot(1,2,1)\n",
    "plt.imshow(x,cmap=cm.Greys)\n",
    "x = cv2.filter2D(img,-1,x3)\n",
    "x = cv2.dilate(x, kernel = np.ones((5,5)),iterations=1)\n",
    "x = cv2.erode(x,kernel = np.ones((5,5)),iterations=2)\n",
    "x[x>80]=255\n",
    "x[x<=80]=0\n",
    "plt.subplot(1,2,2)\n",
    "plt.imshow(x,cmap=cm.Greys)"
   ]
  },
  {
   "cell_type": "markdown",
   "metadata": {
    "id": "lZMebstdRvKK"
   },
   "source": [
    "Example for triangle Side detection"
   ]
  },
  {
   "cell_type": "code",
   "execution_count": 7,
   "metadata": {
    "colab": {
     "base_uri": "https://localhost:8080/",
     "height": 167
    },
    "id": "MnTa7E_URyKQ",
    "outputId": "ce6a4d12-1a66-4da8-e76d-71ed6dfb159e"
   },
   "outputs": [
    {
     "data": {
      "text/plain": [
       "<matplotlib.image.AxesImage at 0x1ee06ca2a30>"
      ]
     },
     "execution_count": 7,
     "metadata": {},
     "output_type": "execute_result"
    },
    {
     "data": {
      "image/png": "[encoded data removed]",
      "text/plain": [
       "<Figure size 432x288 with 3 Axes>"
      ]
     },
     "metadata": {
      "needs_background": "light"
     },
     "output_type": "display_data"
    }
   ],
   "source": [
    "x = draw(blue,0)\n",
    "img = x[:,:,2]\n",
    "x = cv2.filter2D(img,-1,x2)\n",
    "x = cv2.dilate(x, kernel = np.ones((5,5)),iterations=1)\n",
    "x = cv2.erode(x,kernel = np.ones((5,5)),iterations=2)\n",
    "x[x>80]=255\n",
    "x[x<=80]=0\n",
    "plt.subplot(1,3,1)\n",
    "plt.imshow(x,cmap=cm.Greys)\n",
    "x = cv2.filter2D(img,-1,x3)\n",
    "x = cv2.dilate(x, kernel = np.ones((5,5)),iterations=1)\n",
    "x = cv2.erode(x,kernel = np.ones((5,5)),iterations=2)\n",
    "x[x>80]=255\n",
    "x[x<=80]=0\n",
    "plt.subplot(1,3,2)\n",
    "plt.imshow(x,cmap=cm.Greys)\n",
    "x = cv2.filter2D(img,-1,x4)\n",
    "x = cv2.dilate(x, kernel = np.ones((5,5)),iterations=1)\n",
    "x = cv2.erode(x,kernel = np.ones((5,5)),iterations=2)\n",
    "x[x>80]=255\n",
    "x[x<=80]=0\n",
    "plt.subplot(1,3,3)\n",
    "plt.imshow(x,cmap=cm.Greys)"
   ]
  },
  {
   "cell_type": "code",
   "execution_count": 8,
   "metadata": {
    "colab": {
     "base_uri": "https://localhost:8080/",
     "height": 590
    },
    "id": "a6oxgWcxYINZ",
    "outputId": "7ec71d09-b476-437a-967b-8a54102db940"
   },
   "outputs": [
    {
     "name": "stderr",
     "output_type": "stream",
     "text": [
      "Clipping input data to the valid range for imshow with RGB data ([0..1] for floats or [0..255] for integers).\n"
     ]
    },
    {
     "name": "stdout",
     "output_type": "stream",
     "text": [
      "Output of complex cell - square\n"
     ]
    },
    {
     "data": {
      "image/png": "[encoded data removed]",
      "text/plain": [
       "<Figure size 432x288 with 1 Axes>"
      ]
     },
     "metadata": {
      "needs_background": "light"
     },
     "output_type": "display_data"
    },
    {
     "name": "stderr",
     "output_type": "stream",
     "text": [
      "Clipping input data to the valid range for imshow with RGB data ([0..1] for floats or [0..255] for integers).\n"
     ]
    },
    {
     "name": "stdout",
     "output_type": "stream",
     "text": [
      "Output of complex cell - triangle\n"
     ]
    },
    {
     "data": {
      "image/png": "[encoded data removed]",
      "text/plain": [
       "<Figure size 432x288 with 1 Axes>"
      ]
     },
     "metadata": {
      "needs_background": "light"
     },
     "output_type": "display_data"
    }
   ],
   "source": [
    "#complex cell output for both images\n",
    "x = draw(blue,1)\n",
    "img = x[:,:,2]\n",
    "print('Output of complex cell - ' + complexcell(img))\n",
    "plt.imshow(x)\n",
    "plt.show()\n",
    "x = draw(blue,0)\n",
    "img = x[:,:,2]\n",
    "print('Output of complex cell - ' + complexcell(img))\n",
    "plt.imshow(x)\n",
    "plt.show()"
   ]
  },
  {
   "cell_type": "markdown",
   "metadata": {
    "id": "JU9yInCyH0xl"
   },
   "source": [
    "# Q2"
   ]
  },
  {
   "cell_type": "code",
   "execution_count": 9,
   "metadata": {
    "id": "PVGWIid6nDTK"
   },
   "outputs": [],
   "source": [
    "#creating paradigm for the experiment \n",
    "#mode 0 - feature search 1 - conjuction search\n",
    "#do not pass object number greater than 100\n",
    "def get_paradigm(mode, object):\n",
    "    back = np.zeros((1600,1600,3))\n",
    "    a = [k for k in range(100)]\n",
    "    a = np.array(sample(a,object))\n",
    "    if mode==0:\n",
    "        sel = randint(0,1)      \n",
    "        color = [(255,0,0),(0,0,255)]\n",
    "        odd = randint(0,1)\n",
    "        color_odd = color[odd]\n",
    "        color =color[1-odd]\n",
    "        shape = [0,1]\n",
    "        current = sample(shape,1)\n",
    "        odd = 1 - current[0]\n",
    "        for i in range(len(a)-1):\n",
    "            row = (a[i]//10)*160\n",
    "            col = (a[i]%10)*160\n",
    "            back[row:row+160,col:col+160] = draw(color,current[0])\n",
    "        row = (a[-1]//10)*160\n",
    "        col = (a[-1]%10)*160\n",
    "\n",
    "        if sel ==0: \n",
    "            back[row:row+160,col:col+160] = draw(color,odd)\n",
    "            return back,a\n",
    "        else:            \n",
    "            back[row:row+160,col:col+160] = draw(color_odd,current[0])\n",
    "            return back,a\n",
    "    else : \n",
    "        red = (255,0,0)\n",
    "        blue = (0,0,255)\n",
    "        total = [(0,red),(1,red),(1,blue),(0,blue)]\n",
    "        odd = sample(total,1)\n",
    "        not_odd = list(set(total)-set(odd))\n",
    "        for i in range(len(a)-1):\n",
    "            current = sample(not_odd,1)\n",
    "            row = (a[i]//10)*160\n",
    "            col = (a[i]%10)*160\n",
    "            back[row:row+160,col:col+160] = draw(current[0][1],current[0][0])\n",
    "        row = (a[-1]//10)*160\n",
    "        col = (a[-1]%10)*160\n",
    "        back[row:row+160,col:col+160] = draw(odd[0][1],odd[0][0])\n",
    "        return back,a"
   ]
  },
  {
   "cell_type": "code",
   "execution_count": 10,
   "metadata": {
    "colab": {
     "base_uri": "https://localhost:8080/",
     "height": 420
    },
    "id": "jC0K_cX5-8ab",
    "outputId": "88d57da9-6360-40a2-e9b3-6dd263039b46"
   },
   "outputs": [
    {
     "name": "stderr",
     "output_type": "stream",
     "text": [
      "Clipping input data to the valid range for imshow with RGB data ([0..1] for floats or [0..255] for integers).\n",
      "Clipping input data to the valid range for imshow with RGB data ([0..1] for floats or [0..255] for integers).\n"
     ]
    },
    {
     "data": {
      "text/plain": [
       "<matplotlib.image.AxesImage at 0x1ee0b95e6a0>"
      ]
     },
     "execution_count": 10,
     "metadata": {},
     "output_type": "execute_result"
    },
    {
     "data": {
      "image/png": "[encoded data removed]",
      "text/plain": [
       "<Figure size 864x864 with 2 Axes>"
      ]
     },
     "metadata": {
      "needs_background": "light"
     },
     "output_type": "display_data"
    }
   ],
   "source": [
    "#plotting the paradigm for both search\n",
    "a,b = get_paradigm(1,60)\n",
    "fig ,ax = plt.subplots(figsize=(12,12))\n",
    "plt.subplot(1,2,1)\n",
    "plt.title('Conjuction Search Paradigm')\n",
    "plt.imshow(a)\n",
    "plt.subplot(1,2,2)\n",
    "a,b = get_paradigm(0,60)\n",
    "plt.title('Feature search paradigm')\n",
    "plt.imshow(a)"
   ]
  },
  {
   "cell_type": "markdown",
   "metadata": {
    "id": "1Ha1xVinH3VG"
   },
   "source": [
    "# Q3"
   ]
  },
  {
   "cell_type": "code",
   "execution_count": 11,
   "metadata": {
    "id": "cKbiKqMcew8E"
   },
   "outputs": [],
   "source": [
    "#for any paradigm return the features of each object \n",
    "def get_features(a,b):\n",
    "    color = []\n",
    "    shape = []\n",
    "    b.sort()\n",
    "    for i in range(len(b)):\n",
    "        row = (b[i]//10)*160\n",
    "        col = (b[i]%10)*160\n",
    "        img = a[row:row+160,col:col+160][:]\n",
    "        blue = np.array([0,0,255])\n",
    "        if np.all(img[80][80] == blue):\n",
    "            color.append('blue')\n",
    "            current = 2\n",
    "        else:\n",
    "            color.append('red')\n",
    "            current = 0\n",
    "        img1 = img[:,:,current]\n",
    "        shape.append(complexcell(img1))\n",
    "    return color,shape"
   ]
  },
  {
   "cell_type": "code",
   "execution_count": 12,
   "metadata": {
    "id": "XLCrHaYFEBLP"
   },
   "outputs": [],
   "source": [
    "#returns the odd element index for feature search\n",
    "def feature_search(b,shape,color):\n",
    "    time.sleep(0.01)\n",
    "    if len(np.unique(color))==1:\n",
    "        shape = np.array(shape)\n",
    "        square = np.where(shape=='square')[0]\n",
    "        triangle = np.where(shape=='triangle')[0]\n",
    "        if len(square)==1:\n",
    "            return b[square[0]]\n",
    "        else:\n",
    "            return b[triangle[0]]\n",
    "    else:\n",
    "        color = np.array(color)\n",
    "        blue = np.where(color=='blue')[0]\n",
    "        red = np.where(color=='red')[0]\n",
    "        if len(blue)==1:\n",
    "            return b[blue[0]]\n",
    "        else:\n",
    "            return b[red[0]]\n",
    "\n",
    "#returns the odd element index for conjuction search\n",
    "def conjuction_search(b,shape,color):\n",
    "    red_square = []\n",
    "    red_triangle = []\n",
    "    blue_square = []\n",
    "    blue_triangle = []\n",
    "    for i in range(len(b)):\n",
    "        time.sleep(0.1)\n",
    "        if color[i]=='red':\n",
    "            if shape[i]=='square':\n",
    "                red_square.append(b[i])\n",
    "            else:\n",
    "                red_triangle.append(b[i]) \n",
    "        else:\n",
    "            if shape[i]=='square':\n",
    "                blue_square.append(b[i]) \n",
    "            else:\n",
    "                blue_triangle.append(b[i])\n",
    "\n",
    "    if len(red_square)==1:\n",
    "        #print('redsq')\n",
    "        return red_square[0]\n",
    "    elif len(red_triangle)==1:\n",
    "        #print('redtri')\n",
    "        return red_triangle[0]\n",
    "    elif len(blue_square)==1:\n",
    "        #print('bluesq')\n",
    "        return blue_square[0]\n",
    "    elif len(blue_triangle)==1:\n",
    "        #print('bluetri')\n",
    "        return blue_triangle[0]"
   ]
  },
  {
   "cell_type": "code",
   "execution_count": 13,
   "metadata": {
    "id": "92_MoCfLnt7l"
   },
   "outputs": [],
   "source": [
    "#passing the paradigm returns the time and odd element\n",
    "def search(b,a):  \n",
    "    #pre-attention time is ignore\n",
    "    color,shape = get_features(a,b)\n",
    "    if len(np.unique(shape))==1 or len(np.unique(color))==1:\n",
    "        start = time.time()\n",
    "        x = feature_search(b,shape,color)\n",
    "        end = time.time() - start\n",
    "        return x,end\n",
    "    else:\n",
    "        start = time.time()\n",
    "        x = conjuction_search(b,shape,color)\n",
    "        end = time.time()-start\n",
    "        return x,end"
   ]
  },
  {
   "cell_type": "code",
   "execution_count": 14,
   "metadata": {
    "colab": {
     "base_uri": "https://localhost:8080/",
     "height": 420
    },
    "id": "c50d-DfbqmkZ",
    "outputId": "c4e698f5-dc2f-4a8b-a211-23a73fe00201"
   },
   "outputs": [
    {
     "name": "stderr",
     "output_type": "stream",
     "text": [
      "Clipping input data to the valid range for imshow with RGB data ([0..1] for floats or [0..255] for integers).\n",
      "Clipping input data to the valid range for imshow with RGB data ([0..1] for floats or [0..255] for integers).\n"
     ]
    },
    {
     "data": {
      "text/plain": [
       "<matplotlib.image.AxesImage at 0x1ee07ef5ca0>"
      ]
     },
     "execution_count": 14,
     "metadata": {},
     "output_type": "execute_result"
    },
    {
     "data": {
      "image/png": "[encoded data removed]",
      "text/plain": [
       "<Figure size 864x864 with 2 Axes>"
      ]
     },
     "metadata": {
      "needs_background": "light"
     },
     "output_type": "display_data"
    }
   ],
   "source": [
    "#plotting the paradigm and odd element\n",
    "#for conjuction search\n",
    "a,b = get_paradigm(1,60)\n",
    "fig ,ax = plt.subplots(figsize=(12,12))\n",
    "plt.subplot(1,2,1)\n",
    "x,end = search(b,a)\n",
    "row = (x//10)*160\n",
    "col = (x%10)*160\n",
    "a[row:row+160,col:col+160] = box(a[row:row+160,col:col+160])\n",
    "plt.title('Conjuction Search')\n",
    "plt.imshow(a)\n",
    "\n",
    "#for feature search\n",
    "plt.subplot(1,2,2)\n",
    "a,b = get_paradigm(0,60)\n",
    "x,end = search(b,a)\n",
    "row = (x//10)*160\n",
    "col = (x%10)*160\n",
    "a[row:row+160,col:col+160] = box(a[row:row+160,col:col+160])\n",
    "plt.title('Feature Search')\n",
    "plt.imshow(a)"
   ]
  },
  {
   "cell_type": "code",
   "execution_count": 15,
   "metadata": {
    "id": "h69ItXFwD6jv"
   },
   "outputs": [],
   "source": [
    "#calulating the time for both feature and conjuction\n",
    "time_f = []\n",
    "x_axis = []\n",
    "time_c = []\n",
    "for i in range(20,101):\n",
    "    #print(i)\n",
    "    a,b = get_paradigm(1,i)\n",
    "    x,end = search(b,a)\n",
    "    x_axis.append(i)\n",
    "    time_c.append(end)\n",
    "    a,b = get_paradigm(0,i)\n",
    "    x,end = search(b,a)\n",
    "    time_f.append(end)"
   ]
  },
  {
   "cell_type": "markdown",
   "metadata": {
    "id": "uyy_xPuY-bui"
   },
   "source": [
    "Graph for time vs number of objects"
   ]
  },
  {
   "cell_type": "code",
   "execution_count": 16,
   "metadata": {
    "colab": {
     "base_uri": "https://localhost:8080/",
     "height": 279
    },
    "id": "JdCE8jkHojII",
    "outputId": "27429d97-1c6c-42b8-be38-578982617205"
   },
   "outputs": [
    {
     "data": {
      "image/png": "[encoded data removed]",
      "text/plain": [
       "<Figure size 432x288 with 1 Axes>"
      ]
     },
     "metadata": {
      "needs_background": "light"
     },
     "output_type": "display_data"
    }
   ],
   "source": [
    "plt.plot(x_axis,time_c,label='Conjuciton search')\n",
    "plt.plot(x_axis,time_f,label='Feature search')\n",
    "plt.xlabel('Number of objects')\n",
    "plt.ylabel('Time required for search')\n",
    "plt.legend()\n",
    "plt.show()"
   ]
  },
  {
   "cell_type": "markdown",
   "metadata": {
    "id": "KgvIi1aY9_kG"
   },
   "source": [
    "For conjcution search the time increases and for feature search the time reamins constant as the number of objects increases."
   ]
  },
  {
   "cell_type": "code",
   "execution_count": null,
   "metadata": {},
   "outputs": [],
   "source": []
  }
 ],
 "metadata": {
  "colab": {
   "name": "21111064.ipynb",
   "provenance": []
  },
  "kernelspec": {
   "display_name": "Python 3",
   "language": "python",
   "name": "python3"
  },
  "language_info": {
   "codemirror_mode": {
    "name": "ipython",
    "version": 3
   },
   "file_extension": ".py",
   "mimetype": "text/x-python",
   "name": "python",
   "nbconvert_exporter": "python",
   "pygments_lexer": "ipython3",
   "version": "3.6.8"
  }
 },
 "nbformat": 4,
 "nbformat_minor": 1
}
